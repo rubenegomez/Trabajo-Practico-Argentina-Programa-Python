{
 "cells": [
  {
   "cell_type": "markdown",
   "metadata": {},
   "source": [
    "Metodo lector de ardhivo"
   ]
  },
  {
   "cell_type": "code",
   "execution_count": 1,
   "metadata": {},
   "outputs": [
    {
     "name": "stdout",
     "output_type": "stream",
     "text": [
      "                                             title              artist  \\\n",
      "0                    STARSTRUKK (feat. Katy Perry)               3OH!3   \n",
      "1                      My First Kiss (feat. Ke$ha)               3OH!3   \n",
      "2                                  I Need A Dollar          Aloe Blacc   \n",
      "3    Airplanes (feat. Hayley Williams of Paramore)               B.o.B   \n",
      "4                Nothin' on You (feat. Bruno Mars)               B.o.B   \n",
      "..                                             ...                 ...   \n",
      "993                                     SICKO MODE        Travis Scott   \n",
      "994                                      EARFQUAKE  Tyler, The Creator   \n",
      "995                      Boasty (feat. Idris Elba)               Wiley   \n",
      "996                    Strike a Pose (feat. Aitch)    Young T & Bugsey   \n",
      "997      The London (feat. J. Cole & Travis Scott)          Young Thug   \n",
      "\n",
      "       top genre  year released  dur  \n",
      "0      dance pop           2009  203  \n",
      "1      dance pop           2010  192  \n",
      "2       pop soul           2010  243  \n",
      "3    atl hip hop           2010  180  \n",
      "4    atl hip hop           2010  268  \n",
      "..           ...            ...  ...  \n",
      "993      hip hop           2018  313  \n",
      "994      hip hop           2019  190  \n",
      "995        grime           2019  177  \n",
      "996    afroswing           2019  214  \n",
      "997  atl hip hop           2019  200  \n",
      "\n",
      "[998 rows x 5 columns]\n"
     ]
    }
   ],
   "source": [
    "import pandas as pd\n",
    "\n",
    "def leer_archivo(nombre_archivo):\n",
    "    data = pd.read_csv(nombre_archivo, sep=\",\")\n",
    "    return data\n",
    "\n",
    "nombre_archivo = \"Spotify 2010 - 2021 Top 100.csv\"\n",
    "\n",
    "print(leer_archivo(nombre_archivo))"
   ]
  },
  {
   "cell_type": "markdown",
   "metadata": {},
   "source": [
    "Actividad 1\n",
    "Se solicita que diseñe e implemente un sencillo sistema, basado en POO, mediante el cual\n",
    "pueda leer el archivo, crear listas de reproducción compuestas por canciones y calcular la\n",
    "duración de dichas listas creadas.\n",
    "Como caso de uso: cree la lista de reproducción “Indie” la cual debe contener todas las\n",
    "canciones del género “indie rock” almacenadas en el archivo e informar la duración de la\n",
    "misma en horas, minutos y segundos"
   ]
  },
  {
   "cell_type": "code",
   "execution_count": null,
   "metadata": {},
   "outputs": [],
   "source": [
    "class PlayList():\n",
    "    def __init__(self,filtro, filtro1, filtro2, orden):\n",
    "        self.filtro = filtro\n",
    "        self.filtro1 = filtro1\n",
    "        self.filtro2 = filtro2\n",
    "        self.orden = orden\n",
    "        \n",
    "        "
   ]
  }
 ],
 "metadata": {
  "kernelspec": {
   "display_name": "Python 3",
   "language": "python",
   "name": "python3"
  },
  "language_info": {
   "codemirror_mode": {
    "name": "ipython",
    "version": 3
   },
   "file_extension": ".py",
   "mimetype": "text/x-python",
   "name": "python",
   "nbconvert_exporter": "python",
   "pygments_lexer": "ipython3",
   "version": "3.11.5"
  },
  "orig_nbformat": 4
 },
 "nbformat": 4,
 "nbformat_minor": 2
}
