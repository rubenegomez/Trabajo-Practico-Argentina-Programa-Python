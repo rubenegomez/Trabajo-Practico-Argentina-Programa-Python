{
 "cells": [
  {
   "cell_type": "markdown",
   "metadata": {},
   "source": [
    "Metodo lector de ardhivo"
   ]
  },
  {
   "cell_type": "code",
   "execution_count": 11,
   "metadata": {},
   "outputs": [
    {
     "name": "stdout",
     "output_type": "stream",
     "text": [
      "                                             title              artist  \\\n",
      "0                    STARSTRUKK (feat. Katy Perry)               3OH!3   \n",
      "1                      My First Kiss (feat. Ke$ha)               3OH!3   \n",
      "2                                  I Need A Dollar          Aloe Blacc   \n",
      "3    Airplanes (feat. Hayley Williams of Paramore)               B.o.B   \n",
      "4                Nothin' on You (feat. Bruno Mars)               B.o.B   \n",
      "..                                             ...                 ...   \n",
      "993                                     SICKO MODE        Travis Scott   \n",
      "994                                      EARFQUAKE  Tyler, The Creator   \n",
      "995                      Boasty (feat. Idris Elba)               Wiley   \n",
      "996                    Strike a Pose (feat. Aitch)    Young T & Bugsey   \n",
      "997      The London (feat. J. Cole & Travis Scott)          Young Thug   \n",
      "\n",
      "       top genre  year released  dur  \n",
      "0      dance pop           2009  203  \n",
      "1      dance pop           2010  192  \n",
      "2       pop soul           2010  243  \n",
      "3    atl hip hop           2010  180  \n",
      "4    atl hip hop           2010  268  \n",
      "..           ...            ...  ...  \n",
      "993      hip hop           2018  313  \n",
      "994      hip hop           2019  190  \n",
      "995        grime           2019  177  \n",
      "996    afroswing           2019  214  \n",
      "997  atl hip hop           2019  200  \n",
      "\n",
      "[998 rows x 5 columns]\n"
     ]
    }
   ],
   "source": [
    "import pandas as pd\n",
    "\n",
    "def leer_archivo(nombre_archivo):\n",
    "    data = pd.read_csv(nombre_archivo, sep=\",\")\n",
    "    return data\n",
    "\n",
    "nombre_archivo = \"Spotify 2010 - 2021 Top 100.csv\"\n",
    "\n",
    "print(leer_archivo(nombre_archivo))"
   ]
  },
  {
   "cell_type": "markdown",
   "metadata": {},
   "source": [
    "Actividad 1\n",
    "Se solicita que diseñe e implemente un sencillo sistema, basado en POO, mediante el cual\n",
    "pueda leer el archivo, crear listas de reproducción compuestas por canciones y calcular la\n",
    "duración de dichas listas creadas.\n",
    "Como caso de uso: cree la lista de reproducción “Indie” la cual debe contener todas las\n",
    "canciones del género “indie rock” almacenadas en el archivo e informar la duración de la\n",
    "misma en horas, minutos y segundos"
   ]
  },
  {
   "cell_type": "code",
   "execution_count": 12,
   "metadata": {},
   "outputs": [
    {
     "name": "stdout",
     "output_type": "stream",
     "text": [
      "                    title                artist   top genre  year released  \\\n",
      "93          What You Know  Two Door Cinema Club  indie rock           2010   \n",
      "204          Breezeblocks                 alt-J  indie rock           2012   \n",
      "529  Mountain at My Gates                 Foals  indie rock           2015   \n",
      "773         Feel It Still     Portugal. The Man  indie rock           2017   \n",
      "\n",
      "     dur  \n",
      "93   192  \n",
      "204  227  \n",
      "529  244  \n",
      "773  163  \n"
     ]
    }
   ],
   "source": [
    "\n",
    "\n",
    "def leer_archivo(nombre_archivo):\n",
    "    data = pd.read_csv(nombre_archivo, sep=\",\")\n",
    "    return data\n",
    "\n",
    "nombre_archivo = \"Spotify 2010 - 2021 Top 100.csv\"\n",
    "data = leer_archivo(nombre_archivo)\n",
    "\n",
    "class PlayList():\n",
    "    def __init__(self,filtro, filtro1, filtro2, orden):\n",
    "        self.filtro = filtro\n",
    "        self.filtro1 = filtro1\n",
    "        self.filtro2 = filtro2\n",
    "        self.orden = orden\n",
    "        \n",
    "    def generador_de_listas(filtro, filtro1):\n",
    "        lista = data[data[filtro] == filtro1]\n",
    "        return lista\n",
    "        \n",
    "print(PlayList.generador_de_listas(\"top genre\", \"indie rock\"))        "
   ]
  },
  {
   "cell_type": "markdown",
   "metadata": {},
   "source": [
    "A partir del diseño planteado:\n",
    "1. Implementar el código necesario para poder mostrar la lista de reproducción\n",
    "   ordenada por título de las canciones."
   ]
  },
  {
   "cell_type": "code",
   "execution_count": 13,
   "metadata": {},
   "outputs": [
    {
     "name": "stdout",
     "output_type": "stream",
     "text": [
      "                    title                artist   top genre  year released  \\\n",
      "93          What You Know  Two Door Cinema Club  indie rock           2010   \n",
      "529  Mountain at My Gates                 Foals  indie rock           2015   \n",
      "773         Feel It Still     Portugal. The Man  indie rock           2017   \n",
      "204          Breezeblocks                 alt-J  indie rock           2012   \n",
      "\n",
      "     dur  \n",
      "93   192  \n",
      "529  244  \n",
      "773  163  \n",
      "204  227  \n"
     ]
    }
   ],
   "source": [
    "def leer_archivo(nombre_archivo):\n",
    "    data = pd.read_csv(nombre_archivo, sep=\",\")\n",
    "    return data\n",
    "\n",
    "nombre_archivo = \"Spotify 2010 - 2021 Top 100.csv\"\n",
    "data = leer_archivo(nombre_archivo)\n",
    "\n",
    "class PlayList():\n",
    "    def __init__(self,filtro, filtro1, filtro2, orden):\n",
    "        self.filtro = filtro\n",
    "        self.filtro1 = filtro1\n",
    "        self.filtro2 = filtro2\n",
    "        self.orden = orden\n",
    "        \n",
    "        \n",
    "    def ordenar_lista(filtro, filtro1, filtro2, orden):\n",
    "        ordenar = True\n",
    "        if orden == \"asendente\":\n",
    "            ordenar = False\n",
    "        lista_ordenada = data[data[filtro]== filtro1].sort_values(by= filtro2, ascending=ordenar)\n",
    "        return lista_ordenada\n",
    "\n",
    "print(PlayList.ordenar_lista(\"top genre\", \"indie rock\", \"title\", \"asendente\"))        "
   ]
  },
  {
   "cell_type": "markdown",
   "metadata": {},
   "source": [
    "2. Implementar el código necesario para poder mostrar la lista de reproducción\n",
    "   ordenada por artistas."
   ]
  },
  {
   "cell_type": "code",
   "execution_count": 14,
   "metadata": {},
   "outputs": [
    {
     "name": "stdout",
     "output_type": "stream",
     "text": [
      "                    title                artist   top genre  year released  \\\n",
      "93          What You Know  Two Door Cinema Club  indie rock           2010   \n",
      "529  Mountain at My Gates                 Foals  indie rock           2015   \n",
      "773         Feel It Still     Portugal. The Man  indie rock           2017   \n",
      "204          Breezeblocks                 alt-J  indie rock           2012   \n",
      "\n",
      "     dur  \n",
      "93   192  \n",
      "529  244  \n",
      "773  163  \n",
      "204  227  \n",
      "                    title                artist   top genre  year released  \\\n",
      "204          Breezeblocks                 alt-J  indie rock           2012   \n",
      "773         Feel It Still     Portugal. The Man  indie rock           2017   \n",
      "529  Mountain at My Gates                 Foals  indie rock           2015   \n",
      "93          What You Know  Two Door Cinema Club  indie rock           2010   \n",
      "\n",
      "     dur  \n",
      "204  227  \n",
      "773  163  \n",
      "529  244  \n",
      "93   192  \n"
     ]
    }
   ],
   "source": [
    "def leer_archivo(nombre_archivo):\n",
    "    data = pd.read_csv(nombre_archivo, sep=\",\")\n",
    "    return data\n",
    "\n",
    "nombre_archivo = \"Spotify 2010 - 2021 Top 100.csv\"\n",
    "data = leer_archivo(nombre_archivo)\n",
    "\n",
    "class PlayList():\n",
    "    def __init__(self,filtro, filtro1, filtro2, orden):\n",
    "        self.filtro = filtro\n",
    "        self.filtro1 = filtro1\n",
    "        self.filtro2 = filtro2\n",
    "        self.orden = orden\n",
    "        \n",
    "    def ordenar_lista(filtro, filtro1, filtro2, orden):\n",
    "        ordenar = True\n",
    "        if orden == \"asendente\":\n",
    "            ordenar = False\n",
    "        lista_ordenada = data[data[filtro]== filtro1].sort_values(by= filtro2, ascending=ordenar)\n",
    "        return lista_ordenada\n",
    "    \n",
    "print(PlayList.ordenar_lista(\"top genre\", \"indie rock\", \"title\", \"asendente\"))\n",
    "print(PlayList.ordenar_lista(\"top genre\", \"indie rock\", \"title\", \"desendente\"))"
   ]
  },
  {
   "cell_type": "markdown",
   "metadata": {},
   "source": [
    "3. Mostrar la cantidad de canciones de las listas de reproducción creadas"
   ]
  },
  {
   "cell_type": "code",
   "execution_count": 15,
   "metadata": {},
   "outputs": [
    {
     "name": "stdout",
     "output_type": "stream",
     "text": [
      "4\n"
     ]
    }
   ],
   "source": [
    "def leer_archivo(nombre_archivo):\n",
    "    data = pd.read_csv(nombre_archivo, sep=\",\")\n",
    "    return data\n",
    "\n",
    "nombre_archivo = \"Spotify 2010 - 2021 Top 100.csv\"\n",
    "data = leer_archivo(nombre_archivo)\n",
    "\n",
    "class PlayList():\n",
    "    def __init__(self,filtro, filtro1, filtro2, orden):\n",
    "        self.filtro = filtro\n",
    "        self.filtro1 = filtro1\n",
    "        self.filtro2 = filtro2\n",
    "        self.orden = orden\n",
    "        \n",
    "    def list_cant_item(filtro, filtro1):\n",
    "        cantidad = len(data[data[filtro]== filtro1][\"title\"].to_list())\n",
    "        return cantidad\n",
    "\n",
    "print(PlayList.list_cant_item(\"top genre\", \"indie rock\"))        "
   ]
  },
  {
   "cell_type": "markdown",
   "metadata": {},
   "source": [
    "4. ¿Permite el diseño implementar una lista de reproducción basada en un artista en\n",
    "lugar de un género musical?"
   ]
  },
  {
   "cell_type": "code",
   "execution_count": 16,
   "metadata": {},
   "outputs": [
    {
     "name": "stdout",
     "output_type": "stream",
     "text": [
      "                        title  artist        top genre  year released  dur\n",
      "22       Love The Way You Lie  Eminem  detroit hip hop           2010  263\n",
      "23                 Not Afraid  Eminem  detroit hip hop           2010  248\n",
      "336               The Monster  Eminem  detroit hip hop           2013  250\n",
      "337                   Berzerk  Eminem  detroit hip hop           2013  239\n",
      "833  River (feat. Ed Sheeran)  Eminem  detroit hip hop           2017  221\n"
     ]
    }
   ],
   "source": [
    "def leer_archivo(nombre_archivo):\n",
    "    data = pd.read_csv(nombre_archivo, sep=\",\")\n",
    "    return data\n",
    "\n",
    "nombre_archivo = \"Spotify 2010 - 2021 Top 100.csv\"\n",
    "data = leer_archivo(nombre_archivo)\n",
    "\n",
    "class PlayList():\n",
    "    def __init__(self,filtro, filtro1, filtro2, orden):\n",
    "        self.filtro = filtro\n",
    "        self.filtro1 = filtro1\n",
    "        self.filtro2 = filtro2\n",
    "        self.orden = orden\n",
    "        \n",
    "    def generador_de_listas(filtro, filtro1):\n",
    "        lista = data[data[filtro] == filtro1]\n",
    "        return lista\n",
    "    \n",
    "print(PlayList.generador_de_listas(\"artist\", \"Eminem\"))        "
   ]
  },
  {
   "cell_type": "markdown",
   "metadata": {},
   "source": [
    "5. ¿Permite el diseño implementar listas de reproducción genéricas?"
   ]
  },
  {
   "cell_type": "code",
   "execution_count": 17,
   "metadata": {},
   "outputs": [
    {
     "name": "stdout",
     "output_type": "stream",
     "text": [
      "                                             title              artist  \\\n",
      "0                    STARSTRUKK (feat. Katy Perry)               3OH!3   \n",
      "1                      My First Kiss (feat. Ke$ha)               3OH!3   \n",
      "2                                  I Need A Dollar          Aloe Blacc   \n",
      "3    Airplanes (feat. Hayley Williams of Paramore)               B.o.B   \n",
      "4                Nothin' on You (feat. Bruno Mars)               B.o.B   \n",
      "..                                             ...                 ...   \n",
      "993                                     SICKO MODE        Travis Scott   \n",
      "994                                      EARFQUAKE  Tyler, The Creator   \n",
      "995                      Boasty (feat. Idris Elba)               Wiley   \n",
      "996                    Strike a Pose (feat. Aitch)    Young T & Bugsey   \n",
      "997      The London (feat. J. Cole & Travis Scott)          Young Thug   \n",
      "\n",
      "       top genre  year released  dur  \n",
      "0      dance pop           2009  203  \n",
      "1      dance pop           2010  192  \n",
      "2       pop soul           2010  243  \n",
      "3    atl hip hop           2010  180  \n",
      "4    atl hip hop           2010  268  \n",
      "..           ...            ...  ...  \n",
      "993      hip hop           2018  313  \n",
      "994      hip hop           2019  190  \n",
      "995        grime           2019  177  \n",
      "996    afroswing           2019  214  \n",
      "997  atl hip hop           2019  200  \n",
      "\n",
      "[998 rows x 5 columns]\n"
     ]
    }
   ],
   "source": [
    "def leer_archivo(nombre_archivo):\n",
    "    data = pd.read_csv(nombre_archivo, sep=\",\")\n",
    "    return data\n",
    "\n",
    "nombre_archivo = \"Spotify 2010 - 2021 Top 100.csv\"\n",
    "data = leer_archivo(nombre_archivo)\n",
    "\n",
    "class PlayList():\n",
    "    def __init__(self,filtro, filtro1, filtro2, orden):\n",
    "        self.filtro = filtro\n",
    "        self.filtro1 = filtro1\n",
    "        self.filtro2 = filtro2\n",
    "        self.orden = orden\n",
    "        \n",
    "        \n",
    "    def lista_generica():\n",
    "        lista = data\n",
    "        return lista\n",
    "\n",
    "print(PlayList.lista_generica())   "
   ]
  },
  {
   "cell_type": "markdown",
   "metadata": {},
   "source": [
    "6. Identifique las clases e indique si existen relaciones de herencia, composición o\n",
    "   agregación entre ellas\n",
    "\n",
    "   no solo hay una clase"
   ]
  },
  {
   "cell_type": "markdown",
   "metadata": {},
   "source": [
    "7. Identifique los atributos y métodos implementados, indicando si los mismos son de\n",
    "clase o de instancia"
   ]
  },
  {
   "cell_type": "markdown",
   "metadata": {},
   "source": [
    "8. ¿El diseño contiene métodos que apliquen polimorfismo?"
   ]
  },
  {
   "cell_type": "markdown",
   "metadata": {},
   "source": [
    "                                                                          ANALISIS DE DATOS"
   ]
  },
  {
   "cell_type": "markdown",
   "metadata": {},
   "source": [
    "1. ¿Cuántas canciones responden al género “hip hop”?"
   ]
  },
  {
   "cell_type": "code",
   "execution_count": 18,
   "metadata": {},
   "outputs": [
    {
     "name": "stdout",
     "output_type": "stream",
     "text": [
      "21\n"
     ]
    }
   ],
   "source": [
    "def leer_archivo(nombre_archivo):\n",
    "    data = pd.read_csv(nombre_archivo, sep=\",\")\n",
    "    return data\n",
    "\n",
    "nombre_archivo = \"Spotify 2010 - 2021 Top 100.csv\"\n",
    "data = leer_archivo(nombre_archivo)\n",
    "\n",
    "class AnalicisArchivo():\n",
    "    def __init__(self, columna ):\n",
    "        self.columna = columna\n",
    "        \n",
    "    def list_cant_item(filtro, filtro1):\n",
    "        cantidad = len(data[data[filtro]== filtro1])\n",
    "        return cantidad\n",
    "    \n",
    "print(AnalicisArchivo.list_cant_item(\"top genre\", \"hip hop\" )) "
   ]
  },
  {
   "cell_type": "markdown",
   "metadata": {},
   "source": [
    "2. ¿Cuál es el género que más aparece en el archivo?"
   ]
  },
  {
   "cell_type": "code",
   "execution_count": 19,
   "metadata": {},
   "outputs": [
    {
     "name": "stdout",
     "output_type": "stream",
     "text": [
      "top genre\n",
      "dance pop           360\n",
      "pop                  57\n",
      "atl hip hop          39\n",
      "art pop              37\n",
      "hip hop              21\n",
      "                   ... \n",
      "new french touch      1\n",
      "australian psych      1\n",
      "canadian indie        1\n",
      "austrian pop          1\n",
      "uk drill              1\n",
      "Name: count, Length: 131, dtype: int64\n"
     ]
    }
   ],
   "source": [
    "def leer_archivo(nombre_archivo):\n",
    "    data = pd.read_csv(nombre_archivo, sep=\",\")\n",
    "    return data\n",
    "\n",
    "nombre_archivo = \"Spotify 2010 - 2021 Top 100.csv\"\n",
    "data = leer_archivo(nombre_archivo)\n",
    "\n",
    "class AnalicisArchivo():\n",
    "    def __init__(self, columna ):\n",
    "        self.columna = columna\n",
    "        \n",
    "    def generos(columna):\n",
    "        cant_genero = data[columna].value_counts()\n",
    "        return cant_genero\n",
    "    \n",
    "print(AnalicisArchivo.generos(\"top genre\"))    "
   ]
  },
  {
   "cell_type": "markdown",
   "metadata": {},
   "source": [
    "3. ¿Cuál es la canción que tiene mayor duración? ¿Y la canción de menor duración?"
   ]
  },
  {
   "cell_type": "code",
   "execution_count": 20,
   "metadata": {},
   "outputs": [
    {
     "name": "stdout",
     "output_type": "stream",
     "text": [
      "['d', 'u', 'r']\n"
     ]
    }
   ],
   "source": [
    "def leer_archivo(nombre_archivo):\n",
    "    data = pd.read_csv(nombre_archivo, sep=\",\")\n",
    "    return data\n",
    "\n",
    "nombre_archivo = \"Spotify 2010 - 2021 Top 100.csv\"\n",
    "data = leer_archivo(nombre_archivo)\n",
    "\n",
    "class AnalicisArchivo():\n",
    "    def __init__(self, columna ):\n",
    "        self.columna = columna\n",
    "        \n",
    "    def mayor_duracion(filtro):\n",
    "        lista = list(filtro)\n",
    "        return lista\n",
    "    \n",
    "    def menor_duracion(columna):\n",
    "        cancion_menos = data[columna].idxmin()\n",
    "        return cancion_menos\n",
    "    \n",
    "print(AnalicisArchivo.mayor_duracion(\"dur\"))   \n",
    "\n",
    "#print(AnalicisArchivo.menor_duracion(\"title\"))     "
   ]
  },
  {
   "cell_type": "markdown",
   "metadata": {},
   "source": [
    "4. ¿Cuál es el artista que más aparece en el archivo?"
   ]
  },
  {
   "cell_type": "code",
   "execution_count": null,
   "metadata": {},
   "outputs": [],
   "source": []
  },
  {
   "cell_type": "markdown",
   "metadata": {},
   "source": [
    "5. ¿Cuántas canciones son interpretadas por “Imagine Dragons”?"
   ]
  },
  {
   "cell_type": "code",
   "execution_count": 21,
   "metadata": {},
   "outputs": [
    {
     "name": "stdout",
     "output_type": "stream",
     "text": [
      "8\n"
     ]
    }
   ],
   "source": [
    "def leer_archivo(nombre_archivo):\n",
    "    data = pd.read_csv(nombre_archivo, sep=\",\")\n",
    "    return data\n",
    "\n",
    "nombre_archivo = \"Spotify 2010 - 2021 Top 100.csv\"\n",
    "data = leer_archivo(nombre_archivo)\n",
    "\n",
    "class PlayList():\n",
    "    def __init__(self,filtro, filtro1, filtro2, orden):\n",
    "        self.filtro = filtro\n",
    "        self.filtro1 = filtro1\n",
    "        self.filtro2 = filtro2\n",
    "        self.orden = orden\n",
    "        \n",
    "    def list_cant_item(filtro, filtro1):\n",
    "        cantidad = len(data[data[filtro]== filtro1][\"title\"].to_list())\n",
    "        return cantidad\n",
    "    \n",
    "print(PlayList.list_cant_item(\"artist\", \"Imagine Dragons\"))    "
   ]
  },
  {
   "cell_type": "markdown",
   "metadata": {},
   "source": [
    "6. ¿Cuál es el año cuyas canciones tienen la mayor sumatoria de duración? Indicar el\n",
    "valor"
   ]
  },
  {
   "cell_type": "code",
   "execution_count": 22,
   "metadata": {},
   "outputs": [
    {
     "name": "stdout",
     "output_type": "stream",
     "text": [
      "(6, 53, 53)\n"
     ]
    }
   ],
   "source": [
    "def leer_archivo(nombre_archivo):\n",
    "    data = pd.read_csv(nombre_archivo, sep=\",\")\n",
    "    return data\n",
    "\n",
    "nombre_archivo = \"Spotify 2010 - 2021 Top 100.csv\"\n",
    "data = leer_archivo(nombre_archivo)\n",
    "\n",
    "class PlayList():\n",
    "    def __init__(self,filtro, filtro1, filtro2, orden):\n",
    "        self.filtro = filtro\n",
    "        self.filtro1 = filtro1\n",
    "        self.filtro2 = filtro2\n",
    "        self.orden = orden\n",
    "        \n",
    "        \n",
    "    def calcula_duracion(filtro, filtro1):\n",
    "        duracion = data[data[filtro] == filtro1][\"dur\"].sum()  \n",
    "        horas = duracion//3600\n",
    "        sobrante1 =duracion%3600\n",
    "        minutos = sobrante1//60\n",
    "        sobrante2 = sobrante1%60\n",
    "        horas = horas \n",
    "        minutos = minutos \n",
    "        segundos = sobrante2\n",
    "        return horas, minutos, segundos\n",
    "\n",
    "class AnalicisArchivo():\n",
    "    def __init__(self, columna ):\n",
    "        self.columna = columna\n",
    "        \n",
    "    def año_con_mayor_duracion (filtro):\n",
    "        filtroa = data[filtro].to_list()\n",
    "        filtrob = set(filtroa)\n",
    "        duracionporanio= []\n",
    "        \n",
    "        for anio in filtrob:\n",
    "                \n",
    "         duracionporanio.append(PlayList.calcula_duracion(filtro, anio ))\n",
    "         \n",
    "        max = duracionporanio [0]\n",
    "        for x in duracionporanio:\n",
    "            if x > max:\n",
    "                max = x \n",
    "         \n",
    "        return max\n",
    "    \n",
    "print(AnalicisArchivo.año_con_mayor_duracion(\"year released\"))   "
   ]
  },
  {
   "cell_type": "markdown",
   "metadata": {},
   "source": [
    "7. ¿Cuál es el año cuyas canciones tienen la menor sumatoria de duración? Indicar el\n",
    "   valor."
   ]
  },
  {
   "cell_type": "code",
   "execution_count": 23,
   "metadata": {},
   "outputs": [
    {
     "name": "stdout",
     "output_type": "stream",
     "text": [
      "(0, 12, 5)\n"
     ]
    }
   ],
   "source": [
    "def leer_archivo(nombre_archivo):\n",
    "    data = pd.read_csv(nombre_archivo, sep=\",\")\n",
    "    return data\n",
    "\n",
    "nombre_archivo = \"Spotify 2010 - 2021 Top 100.csv\"\n",
    "data = leer_archivo(nombre_archivo)\n",
    "\n",
    "class PlayList():\n",
    "    def __init__(self,filtro, filtro1, filtro2, orden):\n",
    "        self.filtro = filtro\n",
    "        self.filtro1 = filtro1\n",
    "        self.filtro2 = filtro2\n",
    "        self.orden = orden\n",
    "        \n",
    "        \n",
    "    def calcula_duracion(filtro, filtro1):\n",
    "        duracion = data[data[filtro] == filtro1][\"dur\"].sum()  \n",
    "        horas = duracion//3600\n",
    "        sobrante1 =duracion%3600\n",
    "        minutos = sobrante1//60\n",
    "        sobrante2 = sobrante1%60\n",
    "        horas = horas \n",
    "        minutos = minutos \n",
    "        segundos = sobrante2\n",
    "        return horas, minutos, segundos\n",
    "    \n",
    "class AnalicisArchivo():\n",
    "    def __init__(self, columna ):\n",
    "        self.columna = columna\n",
    "        \n",
    "    def año_con_menor_duracion (filtro):\n",
    "        filtroa = data[filtro].to_list()\n",
    "        filtrob = set(filtroa)\n",
    "        duracionporanio= []\n",
    "        \n",
    "        for anio in filtrob:\n",
    "                \n",
    "         duracionporanio.append(PlayList.calcula_duracion(filtro, anio ))\n",
    "         \n",
    "        min = duracionporanio [0]\n",
    "        for x in duracionporanio:\n",
    "            if x < min:\n",
    "                min = x \n",
    "         \n",
    "        return min\n",
    "    \n",
    "print(AnalicisArchivo.año_con_menor_duracion(\"year released\"))      "
   ]
  },
  {
   "cell_type": "markdown",
   "metadata": {},
   "source": [
    "8. ¿Cuál es el género cuyas canciones tienen la mayor sumatoria de duración? Indicar\n",
    "   el valor"
   ]
  },
  {
   "cell_type": "code",
   "execution_count": 24,
   "metadata": {},
   "outputs": [
    {
     "name": "stdout",
     "output_type": "stream",
     "text": [
      "(21, 48, 22)\n"
     ]
    }
   ],
   "source": [
    "def leer_archivo(nombre_archivo):\n",
    "    data = pd.read_csv(nombre_archivo, sep=\",\")\n",
    "    return data\n",
    "\n",
    "nombre_archivo = \"Spotify 2010 - 2021 Top 100.csv\"\n",
    "data = leer_archivo(nombre_archivo)\n",
    "\n",
    "class PlayList():\n",
    "    def __init__(self,filtro, filtro1, filtro2, orden):\n",
    "        self.filtro = filtro\n",
    "        self.filtro1 = filtro1\n",
    "        self.filtro2 = filtro2\n",
    "        self.orden = orden\n",
    "        \n",
    "        \n",
    "    def calcula_duracion(filtro, filtro1):\n",
    "        duracion = data[data[filtro] == filtro1][\"dur\"].sum()  \n",
    "        horas = duracion//3600\n",
    "        sobrante1 =duracion%3600\n",
    "        minutos = sobrante1//60\n",
    "        sobrante2 = sobrante1%60\n",
    "        horas = horas \n",
    "        minutos = minutos \n",
    "        segundos = sobrante2\n",
    "        return horas, minutos, segundos\n",
    "\n",
    "class AnalicisArchivo():\n",
    "    def __init__(self, columna ):\n",
    "        self.columna = columna  \n",
    "        \n",
    "    def genero_de_mayor_duracion(filtro):\n",
    "        filtroa = data[filtro].to_list()\n",
    "        filtrob = set(filtroa)\n",
    "        duracionporgenero = []\n",
    "        \n",
    "        for gen in filtrob:\n",
    "            duracionporgenero.append(PlayList.calcula_duracion(filtro, gen))\n",
    "            \n",
    "        max = duracionporgenero[0]\n",
    "        for x in duracionporgenero:\n",
    "            if x > max:\n",
    "                max = x\n",
    "        return max\n",
    "    \n",
    "print(AnalicisArchivo.genero_de_mayor_duracion(\"top genre\"))          "
   ]
  },
  {
   "cell_type": "markdown",
   "metadata": {},
   "source": [
    "9. ¿Cuál es el género cuyas canciones tienen la menor sumatoria de duración? Indicar\n",
    "    el valor"
   ]
  },
  {
   "cell_type": "code",
   "execution_count": 25,
   "metadata": {},
   "outputs": [
    {
     "name": "stdout",
     "output_type": "stream",
     "text": [
      "(0, 2, 28)\n"
     ]
    }
   ],
   "source": [
    "def leer_archivo(nombre_archivo):\n",
    "    data = pd.read_csv(nombre_archivo, sep=\",\")\n",
    "    return data\n",
    "\n",
    "nombre_archivo = \"Spotify 2010 - 2021 Top 100.csv\"\n",
    "data = leer_archivo(nombre_archivo)\n",
    "\n",
    "class PlayList():\n",
    "    def __init__(self,filtro, filtro1, filtro2, orden):\n",
    "        self.filtro = filtro\n",
    "        self.filtro1 = filtro1\n",
    "        self.filtro2 = filtro2\n",
    "        self.orden = orden\n",
    "        \n",
    "        \n",
    "    def calcula_duracion(filtro, filtro1):\n",
    "        duracion = data[data[filtro] == filtro1][\"dur\"].sum()  \n",
    "        horas = duracion//3600\n",
    "        sobrante1 =duracion%3600\n",
    "        minutos = sobrante1//60\n",
    "        sobrante2 = sobrante1%60\n",
    "        horas = horas \n",
    "        minutos = minutos \n",
    "        segundos = sobrante2\n",
    "        return horas, minutos, segundos\n",
    "    \n",
    "class AnalicisArchivo():\n",
    "    def __init__(self, columna ):\n",
    "        self.columna = columna  \n",
    "    \n",
    "    def genero_de_menor_duracion(filtro):\n",
    "        filtroa = data[filtro].to_list()\n",
    "        filtrob = set(filtroa)\n",
    "        duracionporgenero = []\n",
    "        \n",
    "        for gen in filtrob:\n",
    "            duracionporgenero.append(PlayList.calcula_duracion(filtro, gen))\n",
    "            \n",
    "        min = duracionporgenero[0]\n",
    "        for x in duracionporgenero:\n",
    "            if x < min:\n",
    "                min = x\n",
    "        return min       \n",
    "    \n",
    "print(AnalicisArchivo.genero_de_menor_duracion(\"top genre\"))     "
   ]
  },
  {
   "cell_type": "markdown",
   "metadata": {},
   "source": [
    "0. ¿Cuál es el promedio de duración de las canciones del género con mayor sumatoria\n",
    "    de duración de sus canciones?"
   ]
  },
  {
   "cell_type": "code",
   "execution_count": 26,
   "metadata": {},
   "outputs": [],
   "source": [
    "def leer_archivo(nombre_archivo):\n",
    "    data = pd.read_csv(nombre_archivo, sep=\",\")\n",
    "    return data\n",
    "\n",
    "nombre_archivo = \"Spotify 2010 - 2021 Top 100.csv\"\n",
    "data = leer_archivo(nombre_archivo)\n",
    "\n",
    "class PlayList():\n",
    "    def __init__(self,filtro, filtro1, filtro2, orden):\n",
    "        self.filtro = filtro\n",
    "        self.filtro1 = filtro1\n",
    "        self.filtro2 = filtro2\n",
    "        self.orden = orden\n",
    "        \n",
    "        \n",
    "    def calcula_duracion(filtro, filtro1):\n",
    "        duracion = data[data[filtro] == filtro1][\"dur\"].sum()  \n",
    "        horas = duracion//3600\n",
    "        sobrante1 =duracion%3600\n",
    "        minutos = sobrante1//60\n",
    "        sobrante2 = sobrante1%60\n",
    "        horas = horas \n",
    "        minutos = minutos \n",
    "        segundos = sobrante2\n",
    "        return horas, minutos, segundos\n",
    "\n",
    "class AnalicisArchivo():\n",
    "    def __init__(self, columna ):\n",
    "        self.columna = columna  \n",
    "        \n",
    "    def genero_de_mayor_duracion(filtro):\n",
    "        filtroa = data[filtro].to_list()\n",
    "        filtrob = set(filtroa)\n",
    "        duracionporgenero = []\n",
    "        \n",
    "        for gen in filtrob:\n",
    "            duracionporgenero.append(PlayList.calcula_duracion(filtro, gen))\n",
    "            \n",
    "        max = duracionporgenero[0]\n",
    "        for x in duracionporgenero:\n",
    "            if x > max:\n",
    "                max = x\n",
    "        return max    "
   ]
  },
  {
   "cell_type": "markdown",
   "metadata": {},
   "source": [
    "11. ¿Cuál es el año cuyo promedio de duración de canciones es el menor?       2020"
   ]
  },
  {
   "cell_type": "code",
   "execution_count": null,
   "metadata": {},
   "outputs": [],
   "source": []
  },
  {
   "cell_type": "markdown",
   "metadata": {},
   "source": [
    "12. Informar el porcentaje de canciones de cada género que aparecen en la lista."
   ]
  },
  {
   "cell_type": "code",
   "execution_count": 27,
   "metadata": {},
   "outputs": [
    {
     "ename": "KeyboardInterrupt",
     "evalue": "",
     "output_type": "error",
     "traceback": [
      "\u001b[1;31m---------------------------------------------------------------------------\u001b[0m",
      "\u001b[1;31mKeyboardInterrupt\u001b[0m                         Traceback (most recent call last)",
      "\u001b[1;32mc:\\Users\\ruben\\OneDrive\\Documentos 1\\argentina programa\\Trabajo-Practico-Argentina-Programa-Python-1\\Trabajo practico.ipynb Celda 42\u001b[0m line \u001b[0;36m1\n\u001b[1;32m----> <a href='vscode-notebook-cell:/c%3A/Users/ruben/OneDrive/Documentos%201/argentina%20programa/Trabajo-Practico-Argentina-Programa-Python-1/Trabajo%20practico.ipynb#X56sZmlsZQ%3D%3D?line=0'>1</a>\u001b[0m \u001b[39mdef\u001b[39;00m \u001b[39mcanciones_por_genero\u001b[39m(genero):\n\u001b[0;32m      <a href='vscode-notebook-cell:/c%3A/Users/ruben/OneDrive/Documentos%201/argentina%20programa/Trabajo-Practico-Argentina-Programa-Python-1/Trabajo%20practico.ipynb#X56sZmlsZQ%3D%3D?line=1'>2</a>\u001b[0m     cantidad \u001b[39m=\u001b[39m data[data[\u001b[39m\"\u001b[39m\u001b[39mtop genre\u001b[39m\u001b[39m\"\u001b[39m]\u001b[39m==\u001b[39m genero]\u001b[39m.\u001b[39mcount()\u001b[39m.\u001b[39miloc[\u001b[39m0\u001b[39m]\n\u001b[0;32m      <a href='vscode-notebook-cell:/c%3A/Users/ruben/OneDrive/Documentos%201/argentina%20programa/Trabajo-Practico-Argentina-Programa-Python-1/Trabajo%20practico.ipynb#X56sZmlsZQ%3D%3D?line=2'>3</a>\u001b[0m     \u001b[39mreturn\u001b[39;00m cantidad\n",
      "\u001b[1;32mc:\\Users\\ruben\\OneDrive\\Documentos 1\\argentina programa\\Trabajo-Practico-Argentina-Programa-Python-1\\Trabajo practico.ipynb Celda 42\u001b[0m line \u001b[0;36m1\n\u001b[1;32m----> <a href='vscode-notebook-cell:/c%3A/Users/ruben/OneDrive/Documentos%201/argentina%20programa/Trabajo-Practico-Argentina-Programa-Python-1/Trabajo%20practico.ipynb#X56sZmlsZQ%3D%3D?line=0'>1</a>\u001b[0m \u001b[39mdef\u001b[39;00m \u001b[39mcanciones_por_genero\u001b[39m(genero):\n\u001b[0;32m      <a href='vscode-notebook-cell:/c%3A/Users/ruben/OneDrive/Documentos%201/argentina%20programa/Trabajo-Practico-Argentina-Programa-Python-1/Trabajo%20practico.ipynb#X56sZmlsZQ%3D%3D?line=1'>2</a>\u001b[0m     cantidad \u001b[39m=\u001b[39m data[data[\u001b[39m\"\u001b[39m\u001b[39mtop genre\u001b[39m\u001b[39m\"\u001b[39m]\u001b[39m==\u001b[39m genero]\u001b[39m.\u001b[39mcount()\u001b[39m.\u001b[39miloc[\u001b[39m0\u001b[39m]\n\u001b[0;32m      <a href='vscode-notebook-cell:/c%3A/Users/ruben/OneDrive/Documentos%201/argentina%20programa/Trabajo-Practico-Argentina-Programa-Python-1/Trabajo%20practico.ipynb#X56sZmlsZQ%3D%3D?line=2'>3</a>\u001b[0m     \u001b[39mreturn\u001b[39;00m cantidad\n",
      "File \u001b[1;32m_pydevd_bundle/pydevd_cython.pyx:1457\u001b[0m, in \u001b[0;36m_pydevd_bundle.pydevd_cython.SafeCallWrapper.__call__\u001b[1;34m()\u001b[0m\n",
      "File \u001b[1;32m_pydevd_bundle/pydevd_cython.pyx:701\u001b[0m, in \u001b[0;36m_pydevd_bundle.pydevd_cython.PyDBFrame.trace_dispatch\u001b[1;34m()\u001b[0m\n",
      "File \u001b[1;32m_pydevd_bundle/pydevd_cython.pyx:1152\u001b[0m, in \u001b[0;36m_pydevd_bundle.pydevd_cython.PyDBFrame.trace_dispatch\u001b[1;34m()\u001b[0m\n",
      "File \u001b[1;32m_pydevd_bundle/pydevd_cython.pyx:1135\u001b[0m, in \u001b[0;36m_pydevd_bundle.pydevd_cython.PyDBFrame.trace_dispatch\u001b[1;34m()\u001b[0m\n",
      "File \u001b[1;32m_pydevd_bundle/pydevd_cython.pyx:312\u001b[0m, in \u001b[0;36m_pydevd_bundle.pydevd_cython.PyDBFrame.do_wait_suspend\u001b[1;34m()\u001b[0m\n",
      "File \u001b[1;32m~\\AppData\\Local\\Packages\\PythonSoftwareFoundation.Python.3.11_qbz5n2kfra8p0\\LocalCache\\local-packages\\Python311\\site-packages\\debugpy\\_vendored\\pydevd\\pydevd.py:2070\u001b[0m, in \u001b[0;36mPyDB.do_wait_suspend\u001b[1;34m(self, thread, frame, event, arg, exception_type)\u001b[0m\n\u001b[0;32m   2067\u001b[0m             from_this_thread\u001b[39m.\u001b[39mappend(frame_custom_thread_id)\n\u001b[0;32m   2069\u001b[0m     \u001b[39mwith\u001b[39;00m \u001b[39mself\u001b[39m\u001b[39m.\u001b[39m_threads_suspended_single_notification\u001b[39m.\u001b[39mnotify_thread_suspended(thread_id, thread, stop_reason):\n\u001b[1;32m-> 2070\u001b[0m         keep_suspended \u001b[39m=\u001b[39m \u001b[39mself\u001b[39;49m\u001b[39m.\u001b[39;49m_do_wait_suspend(thread, frame, event, arg, suspend_type, from_this_thread, frames_tracker)\n\u001b[0;32m   2072\u001b[0m frames_list \u001b[39m=\u001b[39m \u001b[39mNone\u001b[39;00m\n\u001b[0;32m   2074\u001b[0m \u001b[39mif\u001b[39;00m keep_suspended:\n\u001b[0;32m   2075\u001b[0m     \u001b[39m# This means that we should pause again after a set next statement.\u001b[39;00m\n",
      "File \u001b[1;32m~\\AppData\\Local\\Packages\\PythonSoftwareFoundation.Python.3.11_qbz5n2kfra8p0\\LocalCache\\local-packages\\Python311\\site-packages\\debugpy\\_vendored\\pydevd\\pydevd.py:2106\u001b[0m, in \u001b[0;36mPyDB._do_wait_suspend\u001b[1;34m(self, thread, frame, event, arg, suspend_type, from_this_thread, frames_tracker)\u001b[0m\n\u001b[0;32m   2103\u001b[0m         \u001b[39mself\u001b[39m\u001b[39m.\u001b[39m_call_input_hook()\n\u001b[0;32m   2105\u001b[0m     \u001b[39mself\u001b[39m\u001b[39m.\u001b[39mprocess_internal_commands()\n\u001b[1;32m-> 2106\u001b[0m     time\u001b[39m.\u001b[39msleep(\u001b[39m0.01\u001b[39m)\n\u001b[0;32m   2108\u001b[0m \u001b[39mself\u001b[39m\u001b[39m.\u001b[39mcancel_async_evaluation(get_current_thread_id(thread), \u001b[39mstr\u001b[39m(\u001b[39mid\u001b[39m(frame)))\n\u001b[0;32m   2110\u001b[0m \u001b[39m# process any stepping instructions\u001b[39;00m\n",
      "\u001b[1;31mKeyboardInterrupt\u001b[0m: "
     ]
    }
   ],
   "source": [
    "def canciones_por_genero(genero):\n",
    "    cantidad = data[data[\"top genre\"]== genero].count().iloc[0]\n",
    "    return cantidad\n",
    "print(canciones_por_genero(\"dance pop\"))    "
   ]
  },
  {
   "cell_type": "markdown",
   "metadata": {},
   "source": [
    "13. Informar los 5 géneros que tienen los mayores porcentajes de aparición en el\n",
    "archivo.           dance pop 360,  pop 57,    atl hip hop 39,  art pop 37, hip hop 21"
   ]
  },
  {
   "cell_type": "code",
   "execution_count": null,
   "metadata": {},
   "outputs": [],
   "source": []
  },
  {
   "cell_type": "markdown",
   "metadata": {},
   "source": [
    "4. Informar cuáles son todos los géneros en cuyo nombre aparece la palabra “rock” en\n",
    "   la lista.    'modern alternative rock', 'celtic rock', 'indie rock',\n",
    "       'alternative rock', 'garage rock', 'modern rock',\n",
    "       'modern folk rock', 'alternative pop rock']"
   ]
  },
  {
   "cell_type": "code",
   "execution_count": 28,
   "metadata": {},
   "outputs": [
    {
     "data": {
      "text/plain": [
       "array(['modern alternative rock', 'celtic rock', 'indie rock',\n",
       "       'alternative rock', 'garage rock', 'modern rock',\n",
       "       'modern folk rock', 'alternative pop rock'], dtype=object)"
      ]
     },
     "execution_count": 28,
     "metadata": {},
     "output_type": "execute_result"
    }
   ],
   "source": [
    "data[data[\"top genre\"].str.contains(\"rock\", case= False)][\"top genre\"].unique()\n"
   ]
  },
  {
   "cell_type": "markdown",
   "metadata": {},
   "source": [
    "15. El archivo contiene registros duplicados (hay temas que aparecen más de una vez).\n",
    "Determine, cuente y muestre los duplicados."
   ]
  },
  {
   "cell_type": "code",
   "execution_count": null,
   "metadata": {},
   "outputs": [],
   "source": []
  }
 ],
 "metadata": {
  "kernelspec": {
   "display_name": "Python 3",
   "language": "python",
   "name": "python3"
  },
  "language_info": {
   "codemirror_mode": {
    "name": "ipython",
    "version": 3
   },
   "file_extension": ".py",
   "mimetype": "text/x-python",
   "name": "python",
   "nbconvert_exporter": "python",
   "pygments_lexer": "ipython3",
   "version": "3.11.5"
  },
  "orig_nbformat": 4
 },
 "nbformat": 4,
 "nbformat_minor": 2
}
