{
 "cells": [
  {
   "cell_type": "markdown",
   "metadata": {},
   "source": [
    "Metodo lector de ardhivo"
   ]
  },
  {
   "cell_type": "code",
   "execution_count": null,
   "metadata": {},
   "outputs": [],
   "source": [
    "import pandas as pd\n",
    "\n",
    "def leer_archivo(nombre_archivo):\n",
    "    data = pd.read_csv(nombre_archivo, sep=\",\")\n",
    "    return data\n",
    "\n",
    "nombre_archivo = \"Spotify 2010 - 2021 Top 100.csv\"\n",
    "\n",
    "print(leer_archivo(nombre_archivo))"
   ]
  },
  {
   "cell_type": "markdown",
   "metadata": {},
   "source": [
    "Actividad 1\n",
    "Se solicita que diseñe e implemente un sencillo sistema, basado en POO, mediante el cual\n",
    "pueda leer el archivo, crear listas de reproducción compuestas por canciones y calcular la\n",
    "duración de dichas listas creadas.\n",
    "Como caso de uso: cree la lista de reproducción “Indie” la cual debe contener todas las\n",
    "canciones del género “indie rock” almacenadas en el archivo e informar la duración de la\n",
    "misma en horas, minutos y segundos"
   ]
  },
  {
   "cell_type": "code",
   "execution_count": null,
   "metadata": {},
   "outputs": [],
   "source": [
    "\n",
    "\n",
    "def leer_archivo(nombre_archivo):\n",
    "    data = pd.read_csv(nombre_archivo, sep=\",\")\n",
    "    return data\n",
    "\n",
    "nombre_archivo = \"Spotify 2010 - 2021 Top 100.csv\"\n",
    "data = leer_archivo(nombre_archivo)\n",
    "\n",
    "class PlayList():\n",
    "    def __init__(self,filtro, filtro1, filtro2, orden):\n",
    "        self.filtro = filtro\n",
    "        self.filtro1 = filtro1\n",
    "        self.filtro2 = filtro2\n",
    "        self.orden = orden\n",
    "        \n",
    "    def generador_de_listas(filtro, filtro1):\n",
    "        lista = data[data[filtro] == filtro1]\n",
    "        return lista\n",
    "        \n",
    "print(PlayList.generador_de_listas(\"top genre\", \"indie rock\"))        "
   ]
  },
  {
   "cell_type": "markdown",
   "metadata": {},
   "source": [
    "A partir del diseño planteado:\n",
    "1. Implementar el código necesario para poder mostrar la lista de reproducción\n",
    "   ordenada por título de las canciones."
   ]
  },
  {
   "cell_type": "code",
   "execution_count": null,
   "metadata": {},
   "outputs": [],
   "source": [
    "def leer_archivo(nombre_archivo):\n",
    "    data = pd.read_csv(nombre_archivo, sep=\",\")\n",
    "    return data\n",
    "\n",
    "nombre_archivo = \"Spotify 2010 - 2021 Top 100.csv\"\n",
    "data = leer_archivo(nombre_archivo)\n",
    "\n",
    "class PlayList():\n",
    "    def __init__(self,filtro, filtro1, filtro2, orden):\n",
    "        self.filtro = filtro\n",
    "        self.filtro1 = filtro1\n",
    "        self.filtro2 = filtro2\n",
    "        self.orden = orden\n",
    "        \n",
    "        \n",
    "    def ordenar_lista(filtro, filtro1, filtro2, orden):\n",
    "        ordenar = True\n",
    "        if orden == \"asendente\":\n",
    "            ordenar = False\n",
    "        lista_ordenada = data[data[filtro]== filtro1].sort_values(by= filtro2, ascending=ordenar)\n",
    "        return lista_ordenada\n",
    "\n",
    "print(PlayList.ordenar_lista(\"top genre\", \"indie rock\", \"title\", \"asendente\"))        "
   ]
  },
  {
   "cell_type": "markdown",
   "metadata": {},
   "source": [
    "2. Implementar el código necesario para poder mostrar la lista de reproducción\n",
    "   ordenada por artistas."
   ]
  },
  {
   "cell_type": "code",
   "execution_count": null,
   "metadata": {},
   "outputs": [],
   "source": [
    "def leer_archivo(nombre_archivo):\n",
    "    data = pd.read_csv(nombre_archivo, sep=\",\")\n",
    "    return data\n",
    "\n",
    "nombre_archivo = \"Spotify 2010 - 2021 Top 100.csv\"\n",
    "data = leer_archivo(nombre_archivo)\n",
    "\n",
    "class PlayList():\n",
    "    def __init__(self,filtro, filtro1, filtro2, orden):\n",
    "        self.filtro = filtro\n",
    "        self.filtro1 = filtro1\n",
    "        self.filtro2 = filtro2\n",
    "        self.orden = orden\n",
    "        \n",
    "    def ordenar_lista(filtro, filtro1, filtro2, orden):\n",
    "        ordenar = True\n",
    "        if orden == \"asendente\":\n",
    "            ordenar = False\n",
    "        lista_ordenada = data[data[filtro]== filtro1].sort_values(by= filtro2, ascending=ordenar)\n",
    "        return lista_ordenada\n",
    "    \n",
    "print(PlayList.ordenar_lista(\"top genre\", \"indie rock\", \"title\", \"asendente\"))\n",
    "print(PlayList.ordenar_lista(\"top genre\", \"indie rock\", \"title\", \"desendente\"))"
   ]
  },
  {
   "cell_type": "markdown",
   "metadata": {},
   "source": [
    "3. Mostrar la cantidad de canciones de las listas de reproducción creadas"
   ]
  },
  {
   "cell_type": "code",
   "execution_count": null,
   "metadata": {},
   "outputs": [],
   "source": [
    "def leer_archivo(nombre_archivo):\n",
    "    data = pd.read_csv(nombre_archivo, sep=\",\")\n",
    "    return data\n",
    "\n",
    "nombre_archivo = \"Spotify 2010 - 2021 Top 100.csv\"\n",
    "data = leer_archivo(nombre_archivo)\n",
    "\n",
    "class PlayList():\n",
    "    def __init__(self,filtro, filtro1, filtro2, orden):\n",
    "        self.filtro = filtro\n",
    "        self.filtro1 = filtro1\n",
    "        self.filtro2 = filtro2\n",
    "        self.orden = orden\n",
    "        \n",
    "    def list_cant_item(filtro, filtro1):\n",
    "        cantidad = len(data[data[filtro]== filtro1][\"title\"].to_list())\n",
    "        return cantidad\n",
    "\n",
    "print(PlayList.list_cant_item(\"top genre\", \"indie rock\"))        "
   ]
  },
  {
   "cell_type": "markdown",
   "metadata": {},
   "source": [
    "4. ¿Permite el diseño implementar una lista de reproducción basada en un artista en\n",
    "lugar de un género musical?"
   ]
  },
  {
   "cell_type": "code",
   "execution_count": null,
   "metadata": {},
   "outputs": [],
   "source": [
    "def leer_archivo(nombre_archivo):\n",
    "    data = pd.read_csv(nombre_archivo, sep=\",\")\n",
    "    return data\n",
    "\n",
    "nombre_archivo = \"Spotify 2010 - 2021 Top 100.csv\"\n",
    "data = leer_archivo(nombre_archivo)\n",
    "\n",
    "class PlayList():\n",
    "    def __init__(self,filtro, filtro1, filtro2, orden):\n",
    "        self.filtro = filtro\n",
    "        self.filtro1 = filtro1\n",
    "        self.filtro2 = filtro2\n",
    "        self.orden = orden\n",
    "        \n",
    "    def generador_de_listas(filtro, filtro1):\n",
    "        lista = data[data[filtro] == filtro1]\n",
    "        return lista\n",
    "    \n",
    "print(PlayList.generador_de_listas(\"artist\", \"Eminem\"))        "
   ]
  },
  {
   "cell_type": "markdown",
   "metadata": {},
   "source": [
    "5. ¿Permite el diseño implementar listas de reproducción genéricas?"
   ]
  },
  {
   "cell_type": "code",
   "execution_count": null,
   "metadata": {},
   "outputs": [],
   "source": [
    "def leer_archivo(nombre_archivo):\n",
    "    data = pd.read_csv(nombre_archivo, sep=\",\")\n",
    "    return data\n",
    "\n",
    "nombre_archivo = \"Spotify 2010 - 2021 Top 100.csv\"\n",
    "data = leer_archivo(nombre_archivo)\n",
    "\n",
    "class PlayList():\n",
    "    def __init__(self,filtro, filtro1, filtro2, orden):\n",
    "        self.filtro = filtro\n",
    "        self.filtro1 = filtro1\n",
    "        self.filtro2 = filtro2\n",
    "        self.orden = orden\n",
    "        \n",
    "        \n",
    "    def lista_generica():\n",
    "        lista = data\n",
    "        return lista\n",
    "\n",
    "print(PlayList.lista_generica())   "
   ]
  },
  {
   "cell_type": "markdown",
   "metadata": {},
   "source": [
    "6. Identifique las clases e indique si existen relaciones de herencia, composición o\n",
    "   agregación entre ellas\n",
    "\n",
    "   no solo hay una clase"
   ]
  },
  {
   "cell_type": "markdown",
   "metadata": {},
   "source": [
    "7. Identifique los atributos y métodos implementados, indicando si los mismos son de\n",
    "clase o de instancia"
   ]
  },
  {
   "cell_type": "markdown",
   "metadata": {},
   "source": [
    "8. ¿El diseño contiene métodos que apliquen polimorfismo?"
   ]
  },
  {
   "cell_type": "markdown",
   "metadata": {},
   "source": [
    "                                                                          ANALISIS DE DATOS"
   ]
  },
  {
   "cell_type": "markdown",
   "metadata": {},
   "source": [
    "1. ¿Cuántas canciones responden al género “hip hop”?"
   ]
  },
  {
   "cell_type": "code",
   "execution_count": null,
   "metadata": {},
   "outputs": [],
   "source": [
    "def leer_archivo(nombre_archivo):\n",
    "    data = pd.read_csv(nombre_archivo, sep=\",\")\n",
    "    return data\n",
    "\n",
    "nombre_archivo = \"Spotify 2010 - 2021 Top 100.csv\"\n",
    "data = leer_archivo(nombre_archivo)\n",
    "\n",
    "class AnalicisArchivo():\n",
    "    def __init__(self, columna ):\n",
    "        self.columna = columna\n",
    "        \n",
    "    def list_cant_item(filtro, filtro1):\n",
    "        cantidad = len(data[data[filtro]== filtro1])\n",
    "        return cantidad\n",
    "    \n",
    "print(AnalicisArchivo.list_cant_item(\"top genre\", \"hip hop\" )) "
   ]
  },
  {
   "cell_type": "markdown",
   "metadata": {},
   "source": [
    "2. ¿Cuál es el género que más aparece en el archivo?"
   ]
  },
  {
   "cell_type": "code",
   "execution_count": null,
   "metadata": {},
   "outputs": [],
   "source": [
    "def leer_archivo(nombre_archivo):\n",
    "    data = pd.read_csv(nombre_archivo, sep=\",\")\n",
    "    return data\n",
    "\n",
    "nombre_archivo = \"Spotify 2010 - 2021 Top 100.csv\"\n",
    "data = leer_archivo(nombre_archivo)\n",
    "\n",
    "class AnalicisArchivo():\n",
    "    def __init__(self, columna ):\n",
    "        self.columna = columna\n",
    "        \n",
    "    def generos(columna):\n",
    "        cant_genero = data[columna].value_counts()\n",
    "        return cant_genero\n",
    "    \n",
    "print(AnalicisArchivo.generos(\"top genre\"))    "
   ]
  },
  {
   "cell_type": "markdown",
   "metadata": {},
   "source": [
    "3. ¿Cuál es la canción que tiene mayor duración? ¿Y la canción de menor duración?"
   ]
  },
  {
   "cell_type": "code",
   "execution_count": null,
   "metadata": {},
   "outputs": [],
   "source": [
    "def leer_archivo(nombre_archivo):\n",
    "    data = pd.read_csv(nombre_archivo, sep=\",\")\n",
    "    return data\n",
    "\n",
    "nombre_archivo = \"Spotify 2010 - 2021 Top 100.csv\"\n",
    "data = leer_archivo(nombre_archivo)\n",
    "\n",
    "class AnalicisArchivo():\n",
    "    def __init__(self, columna ):\n",
    "        self.columna = columna\n",
    "        \n",
    "    def mayor_duracion(filtro):\n",
    "        lista = list(filtro)\n",
    "        return lista\n",
    "    \n",
    "    def menor_duracion(columna):\n",
    "        cancion_menos = data[columna].idxmin()\n",
    "        return cancion_menos\n",
    "    \n",
    "print(AnalicisArchivo.mayor_duracion(\"dur\"))   \n",
    "\n",
    "#print(AnalicisArchivo.menor_duracion(\"title\"))     "
   ]
  },
  {
   "cell_type": "markdown",
   "metadata": {},
   "source": [
    "4. ¿Cuál es el artista que más aparece en el archivo?"
   ]
  },
  {
   "cell_type": "code",
   "execution_count": null,
   "metadata": {},
   "outputs": [],
   "source": []
  },
  {
   "cell_type": "markdown",
   "metadata": {},
   "source": [
    "5. ¿Cuántas canciones son interpretadas por “Imagine Dragons”?"
   ]
  },
  {
   "cell_type": "code",
   "execution_count": null,
   "metadata": {},
   "outputs": [],
   "source": [
    "def leer_archivo(nombre_archivo):\n",
    "    data = pd.read_csv(nombre_archivo, sep=\",\")\n",
    "    return data\n",
    "\n",
    "nombre_archivo = \"Spotify 2010 - 2021 Top 100.csv\"\n",
    "data = leer_archivo(nombre_archivo)\n",
    "\n",
    "class PlayList():\n",
    "    def __init__(self,filtro, filtro1, filtro2, orden):\n",
    "        self.filtro = filtro\n",
    "        self.filtro1 = filtro1\n",
    "        self.filtro2 = filtro2\n",
    "        self.orden = orden\n",
    "        \n",
    "    def list_cant_item(filtro, filtro1):\n",
    "        cantidad = len(data[data[filtro]== filtro1][\"title\"].to_list())\n",
    "        return cantidad\n",
    "    \n",
    "print(PlayList.list_cant_item(\"artist\", \"Imagine Dragons\"))    "
   ]
  },
  {
   "cell_type": "markdown",
   "metadata": {},
   "source": [
    "6. ¿Cuál es el año cuyas canciones tienen la mayor sumatoria de duración? Indicar el\n",
    "valor"
   ]
  },
  {
   "cell_type": "code",
   "execution_count": 81,
   "metadata": {},
   "outputs": [
    {
     "name": "stdout",
     "output_type": "stream",
     "text": [
      "(6, 53, 53)\n"
     ]
    }
   ],
   "source": [
    "def leer_archivo(nombre_archivo):\n",
    "    data = pd.read_csv(nombre_archivo, sep=\",\")\n",
    "    return data\n",
    "\n",
    "nombre_archivo = \"Spotify 2010 - 2021 Top 100.csv\"\n",
    "data = leer_archivo(nombre_archivo)\n",
    "\n",
    "class PlayList():\n",
    "    def __init__(self,filtro, filtro1, filtro2, orden):\n",
    "        self.filtro = filtro\n",
    "        self.filtro1 = filtro1\n",
    "        self.filtro2 = filtro2\n",
    "        self.orden = orden\n",
    "        \n",
    "        \n",
    "    def calcula_duracion(filtro, filtro1):\n",
    "        duracion = data[data[filtro] == filtro1][\"dur\"].sum()  \n",
    "        horas = duracion//3600\n",
    "        sobrante1 =duracion%3600\n",
    "        minutos = sobrante1//60\n",
    "        sobrante2 = sobrante1%60\n",
    "        horas = horas \n",
    "        minutos = minutos \n",
    "        segundos = sobrante2\n",
    "        return horas, minutos, segundos\n",
    "\n",
    "class AnalicisArchivo():\n",
    "    def __init__(self, columna ):\n",
    "        self.columna = columna\n",
    "        \n",
    "    def año_con_mayor_duracion (filtro):\n",
    "        filtroa = data[filtro].to_list()\n",
    "        filtrob = set(filtroa)\n",
    "        duracionporanio= []\n",
    "        \n",
    "        for anio in filtrob:\n",
    "                \n",
    "         duracionporanio.append(PlayList.calcula_duracion(filtro, anio ))\n",
    "         \n",
    "        max = duracionporanio [0]\n",
    "        for x in duracionporanio:\n",
    "            if x > max:\n",
    "                max = x \n",
    "         \n",
    "        return max\n",
    "    \n",
    "print(AnalicisArchivo.año_con_mayor_duracion(\"year released\"))   "
   ]
  },
  {
   "cell_type": "markdown",
   "metadata": {},
   "source": [
    "7. ¿Cuál es el año cuyas canciones tienen la menor sumatoria de duración? Indicar el\n",
    "   valor."
   ]
  },
  {
   "cell_type": "code",
   "execution_count": 82,
   "metadata": {},
   "outputs": [
    {
     "name": "stdout",
     "output_type": "stream",
     "text": [
      "(0, 12, 5)\n"
     ]
    }
   ],
   "source": [
    "def leer_archivo(nombre_archivo):\n",
    "    data = pd.read_csv(nombre_archivo, sep=\",\")\n",
    "    return data\n",
    "\n",
    "nombre_archivo = \"Spotify 2010 - 2021 Top 100.csv\"\n",
    "data = leer_archivo(nombre_archivo)\n",
    "\n",
    "class PlayList():\n",
    "    def __init__(self,filtro, filtro1, filtro2, orden):\n",
    "        self.filtro = filtro\n",
    "        self.filtro1 = filtro1\n",
    "        self.filtro2 = filtro2\n",
    "        self.orden = orden\n",
    "        \n",
    "        \n",
    "    def calcula_duracion(filtro, filtro1):\n",
    "        duracion = data[data[filtro] == filtro1][\"dur\"].sum()  \n",
    "        horas = duracion//3600\n",
    "        sobrante1 =duracion%3600\n",
    "        minutos = sobrante1//60\n",
    "        sobrante2 = sobrante1%60\n",
    "        horas = horas \n",
    "        minutos = minutos \n",
    "        segundos = sobrante2\n",
    "        return horas, minutos, segundos\n",
    "    \n",
    "class AnalicisArchivo():\n",
    "    def __init__(self, columna ):\n",
    "        self.columna = columna\n",
    "        \n",
    "    def año_con_menor_duracion (filtro):\n",
    "        filtroa = data[filtro].to_list()\n",
    "        filtrob = set(filtroa)\n",
    "        duracionporanio= []\n",
    "        \n",
    "        for anio in filtrob:\n",
    "                \n",
    "         duracionporanio.append(PlayList.calcula_duracion(filtro, anio ))\n",
    "         \n",
    "        min = duracionporanio [0]\n",
    "        for x in duracionporanio:\n",
    "            if x < min:\n",
    "                min = x \n",
    "         \n",
    "        return min\n",
    "    \n",
    "print(AnalicisArchivo.año_con_menor_duracion(\"year released\"))      "
   ]
  },
  {
   "cell_type": "markdown",
   "metadata": {},
   "source": [
    "8. ¿Cuál es el género cuyas canciones tienen la mayor sumatoria de duración? Indicar\n",
    "   el valor"
   ]
  },
  {
   "cell_type": "code",
   "execution_count": 85,
   "metadata": {},
   "outputs": [],
   "source": [
    "def leer_archivo(nombre_archivo):\n",
    "    data = pd.read_csv(nombre_archivo, sep=\",\")\n",
    "    return data\n",
    "\n",
    "nombre_archivo = \"Spotify 2010 - 2021 Top 100.csv\"\n",
    "data = leer_archivo(nombre_archivo)\n",
    "\n",
    "class PlayList():\n",
    "    def __init__(self,filtro, filtro1, filtro2, orden):\n",
    "        self.filtro = filtro\n",
    "        self.filtro1 = filtro1\n",
    "        self.filtro2 = filtro2\n",
    "        self.orden = orden\n",
    "        \n",
    "        \n",
    "    def calcula_duracion(filtro, filtro1):\n",
    "        duracion = data[data[filtro] == filtro1][\"dur\"].sum()  \n",
    "        horas = duracion//3600\n",
    "        sobrante1 =duracion%3600\n",
    "        minutos = sobrante1//60\n",
    "        sobrante2 = sobrante1%60\n",
    "        horas = horas \n",
    "        minutos = minutos \n",
    "        segundos = sobrante2\n",
    "        return horas, minutos, segundos\n",
    "\n",
    "class AnalicisArchivo():\n",
    "    def __init__(self, columna ):\n",
    "        self.columna = columna  \n",
    "        \n",
    "    def genero_de_mayor_duracion(filtro):\n",
    "        filtroa = data[filtro].to_list()\n",
    "        filtrob = set(filtroa)\n",
    "        duracionporgenero = []\n",
    "        \n",
    "        for gen in filtrob:\n",
    "            duracionporgenero.append(PlayList.calcula_duracion(filtro, gen))\n",
    "            \n",
    "        max = duracionporgenero[0]\n",
    "        for x in duracionporgenero:\n",
    "            if x > max:\n",
    "                max = x\n",
    "        return max\n",
    "    \n",
    "print(AnalicisArchivo.genero_de_mayor_duracion(\"top genre\"))          "
   ]
  },
  {
   "cell_type": "markdown",
   "metadata": {},
   "source": [
    "9. ¿Cuál es el género cuyas canciones tienen la menor sumatoria de duración? Indicar\n",
    "    el valor"
   ]
  },
  {
   "cell_type": "code",
   "execution_count": 84,
   "metadata": {},
   "outputs": [
    {
     "name": "stdout",
     "output_type": "stream",
     "text": [
      "(0, 2, 28)\n"
     ]
    }
   ],
   "source": [
    "def leer_archivo(nombre_archivo):\n",
    "    data = pd.read_csv(nombre_archivo, sep=\",\")\n",
    "    return data\n",
    "\n",
    "nombre_archivo = \"Spotify 2010 - 2021 Top 100.csv\"\n",
    "data = leer_archivo(nombre_archivo)\n",
    "\n",
    "class PlayList():\n",
    "    def __init__(self,filtro, filtro1, filtro2, orden):\n",
    "        self.filtro = filtro\n",
    "        self.filtro1 = filtro1\n",
    "        self.filtro2 = filtro2\n",
    "        self.orden = orden\n",
    "        \n",
    "        \n",
    "    def calcula_duracion(filtro, filtro1):\n",
    "        duracion = data[data[filtro] == filtro1][\"dur\"].sum()  \n",
    "        horas = duracion//3600\n",
    "        sobrante1 =duracion%3600\n",
    "        minutos = sobrante1//60\n",
    "        sobrante2 = sobrante1%60\n",
    "        horas = horas \n",
    "        minutos = minutos \n",
    "        segundos = sobrante2\n",
    "        return horas, minutos, segundos\n",
    "    \n",
    "class AnalicisArchivo():\n",
    "    def __init__(self, columna ):\n",
    "        self.columna = columna  \n",
    "    \n",
    "    def genero_de_menor_duracion(filtro):\n",
    "        filtroa = data[filtro].to_list()\n",
    "        filtrob = set(filtroa)\n",
    "        duracionporgenero = []\n",
    "        \n",
    "        for gen in filtrob:\n",
    "            duracionporgenero.append(PlayList.calcula_duracion(filtro, gen))\n",
    "            \n",
    "        min = duracionporgenero[0]\n",
    "        for x in duracionporgenero:\n",
    "            if x < min:\n",
    "                min = x\n",
    "        return min       \n",
    "    \n",
    "print(AnalicisArchivo.genero_de_menor_duracion(\"top genre\"))     "
   ]
  },
  {
   "cell_type": "markdown",
   "metadata": {},
   "source": [
    "0. ¿Cuál es el promedio de duración de las canciones del género con mayor sumatoria\n",
    "    de duración de sus canciones?"
   ]
  },
  {
   "cell_type": "code",
   "execution_count": null,
   "metadata": {},
   "outputs": [],
   "source": [
    "def leer_archivo(nombre_archivo):\n",
    "    data = pd.read_csv(nombre_archivo, sep=\",\")\n",
    "    return data\n",
    "\n",
    "nombre_archivo = \"Spotify 2010 - 2021 Top 100.csv\"\n",
    "data = leer_archivo(nombre_archivo)\n",
    "\n",
    "class PlayList():\n",
    "    def __init__(self,filtro, filtro1, filtro2, orden):\n",
    "        self.filtro = filtro\n",
    "        self.filtro1 = filtro1\n",
    "        self.filtro2 = filtro2\n",
    "        self.orden = orden\n",
    "        \n",
    "        \n",
    "    def calcula_duracion(filtro, filtro1):\n",
    "        duracion = data[data[filtro] == filtro1][\"dur\"].sum()  \n",
    "        horas = duracion//3600\n",
    "        sobrante1 =duracion%3600\n",
    "        minutos = sobrante1//60\n",
    "        sobrante2 = sobrante1%60\n",
    "        horas = horas \n",
    "        minutos = minutos \n",
    "        segundos = sobrante2\n",
    "        return horas, minutos, segundos\n",
    "\n",
    "class AnalicisArchivo():\n",
    "    def __init__(self, columna ):\n",
    "        self.columna = columna  \n",
    "        \n",
    "    def genero_de_mayor_duracion(filtro):\n",
    "        filtroa = data[filtro].to_list()\n",
    "        filtrob = set(filtroa)\n",
    "        duracionporgenero = []\n",
    "        \n",
    "        for gen in filtrob:\n",
    "            duracionporgenero.append(PlayList.calcula_duracion(filtro, gen))\n",
    "            \n",
    "        max = duracionporgenero[0]\n",
    "        for x in duracionporgenero:\n",
    "            if x > max:\n",
    "                max = x\n",
    "        return max    "
   ]
  }
 ],
 "metadata": {
  "kernelspec": {
   "display_name": "Python 3",
   "language": "python",
   "name": "python3"
  },
  "language_info": {
   "codemirror_mode": {
    "name": "ipython",
    "version": 3
   },
   "file_extension": ".py",
   "mimetype": "text/x-python",
   "name": "python",
   "nbconvert_exporter": "python",
   "pygments_lexer": "ipython3",
   "version": "3.11.5"
  },
  "orig_nbformat": 4
 },
 "nbformat": 4,
 "nbformat_minor": 2
}
