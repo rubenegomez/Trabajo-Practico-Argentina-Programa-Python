{
 "cells": [
  {
   "cell_type": "markdown",
   "metadata": {},
   "source": [
    "Metodo lector de ardhivo"
   ]
  },
  {
   "cell_type": "code",
   "execution_count": 8,
   "metadata": {},
   "outputs": [
    {
     "name": "stdout",
     "output_type": "stream",
     "text": [
      "                                             title              artist  \\\n",
      "0                    STARSTRUKK (feat. Katy Perry)               3OH!3   \n",
      "1                      My First Kiss (feat. Ke$ha)               3OH!3   \n",
      "2                                  I Need A Dollar          Aloe Blacc   \n",
      "3    Airplanes (feat. Hayley Williams of Paramore)               B.o.B   \n",
      "4                Nothin' on You (feat. Bruno Mars)               B.o.B   \n",
      "..                                             ...                 ...   \n",
      "993                                     SICKO MODE        Travis Scott   \n",
      "994                                      EARFQUAKE  Tyler, The Creator   \n",
      "995                      Boasty (feat. Idris Elba)               Wiley   \n",
      "996                    Strike a Pose (feat. Aitch)    Young T & Bugsey   \n",
      "997      The London (feat. J. Cole & Travis Scott)          Young Thug   \n",
      "\n",
      "       top genre  year released  dur  \n",
      "0      dance pop           2009  203  \n",
      "1      dance pop           2010  192  \n",
      "2       pop soul           2010  243  \n",
      "3    atl hip hop           2010  180  \n",
      "4    atl hip hop           2010  268  \n",
      "..           ...            ...  ...  \n",
      "993      hip hop           2018  313  \n",
      "994      hip hop           2019  190  \n",
      "995        grime           2019  177  \n",
      "996    afroswing           2019  214  \n",
      "997  atl hip hop           2019  200  \n",
      "\n",
      "[998 rows x 5 columns]\n"
     ]
    }
   ],
   "source": [
    "import pandas as pd\n",
    "\n",
    "def leer_archivo(nombre_archivo):\n",
    "    data = pd.read_csv(nombre_archivo, sep=\",\")\n",
    "    return data\n",
    "\n",
    "nombre_archivo = \"Spotify 2010 - 2021 Top 100.csv\"\n",
    "\n",
    "print(leer_archivo(nombre_archivo))"
   ]
  },
  {
   "cell_type": "markdown",
   "metadata": {},
   "source": [
    "Actividad 1\n",
    "Se solicita que diseñe e implemente un sencillo sistema, basado en POO, mediante el cual\n",
    "pueda leer el archivo, crear listas de reproducción compuestas por canciones y calcular la\n",
    "duración de dichas listas creadas.\n",
    "Como caso de uso: cree la lista de reproducción “Indie” la cual debe contener todas las\n",
    "canciones del género “indie rock” almacenadas en el archivo e informar la duración de la\n",
    "misma en horas, minutos y segundos"
   ]
  },
  {
   "cell_type": "code",
   "execution_count": 9,
   "metadata": {},
   "outputs": [
    {
     "name": "stdout",
     "output_type": "stream",
     "text": [
      "                    title                artist   top genre  year released  \\\n",
      "93          What You Know  Two Door Cinema Club  indie rock           2010   \n",
      "204          Breezeblocks                 alt-J  indie rock           2012   \n",
      "529  Mountain at My Gates                 Foals  indie rock           2015   \n",
      "773         Feel It Still     Portugal. The Man  indie rock           2017   \n",
      "\n",
      "     dur  \n",
      "93   192  \n",
      "204  227  \n",
      "529  244  \n",
      "773  163  \n"
     ]
    }
   ],
   "source": [
    "\n",
    "\n",
    "def leer_archivo(nombre_archivo):\n",
    "    data = pd.read_csv(nombre_archivo, sep=\",\")\n",
    "    return data\n",
    "\n",
    "nombre_archivo = \"Spotify 2010 - 2021 Top 100.csv\"\n",
    "data = leer_archivo(nombre_archivo)\n",
    "\n",
    "class PlayList():\n",
    "    def __init__(self,filtro, filtro1, filtro2, orden):\n",
    "        self.filtro = filtro\n",
    "        self.filtro1 = filtro1\n",
    "        self.filtro2 = filtro2\n",
    "        self.orden = orden\n",
    "        \n",
    "    def generador_de_listas(filtro, filtro1):\n",
    "        lista = data[data[filtro] == filtro1]\n",
    "        return lista\n",
    "        \n",
    "print(PlayList.generador_de_listas(\"top genre\", \"indie rock\"))        "
   ]
  },
  {
   "cell_type": "markdown",
   "metadata": {},
   "source": [
    "A partir del diseño planteado:\n",
    "1. Implementar el código necesario para poder mostrar la lista de reproducción\n",
    "   ordenada por título de las canciones."
   ]
  },
  {
   "cell_type": "code",
   "execution_count": 10,
   "metadata": {},
   "outputs": [
    {
     "name": "stdout",
     "output_type": "stream",
     "text": [
      "                    title                artist   top genre  year released  \\\n",
      "93          What You Know  Two Door Cinema Club  indie rock           2010   \n",
      "529  Mountain at My Gates                 Foals  indie rock           2015   \n",
      "773         Feel It Still     Portugal. The Man  indie rock           2017   \n",
      "204          Breezeblocks                 alt-J  indie rock           2012   \n",
      "\n",
      "     dur  \n",
      "93   192  \n",
      "529  244  \n",
      "773  163  \n",
      "204  227  \n"
     ]
    }
   ],
   "source": [
    "def leer_archivo(nombre_archivo):\n",
    "    data = pd.read_csv(nombre_archivo, sep=\",\")\n",
    "    return data\n",
    "\n",
    "nombre_archivo = \"Spotify 2010 - 2021 Top 100.csv\"\n",
    "data = leer_archivo(nombre_archivo)\n",
    "\n",
    "class PlayList():\n",
    "    def __init__(self,filtro, filtro1, filtro2, orden):\n",
    "        self.filtro = filtro\n",
    "        self.filtro1 = filtro1\n",
    "        self.filtro2 = filtro2\n",
    "        self.orden = orden\n",
    "        \n",
    "        \n",
    "    def ordenar_lista(filtro, filtro1, filtro2, orden):\n",
    "        ordenar = True\n",
    "        if orden == \"asendente\":\n",
    "            ordenar = False\n",
    "        lista_ordenada = data[data[filtro]== filtro1].sort_values(by= filtro2, ascending=ordenar)\n",
    "        return lista_ordenada\n",
    "\n",
    "print(PlayList.ordenar_lista(\"top genre\", \"indie rock\", \"title\", \"asendente\"))        "
   ]
  },
  {
   "cell_type": "markdown",
   "metadata": {},
   "source": [
    "2. Implementar el código necesario para poder mostrar la lista de reproducción\n",
    "   ordenada por artistas."
   ]
  },
  {
   "cell_type": "code",
   "execution_count": 11,
   "metadata": {},
   "outputs": [
    {
     "name": "stdout",
     "output_type": "stream",
     "text": [
      "                    title                artist   top genre  year released  \\\n",
      "93          What You Know  Two Door Cinema Club  indie rock           2010   \n",
      "529  Mountain at My Gates                 Foals  indie rock           2015   \n",
      "773         Feel It Still     Portugal. The Man  indie rock           2017   \n",
      "204          Breezeblocks                 alt-J  indie rock           2012   \n",
      "\n",
      "     dur  \n",
      "93   192  \n",
      "529  244  \n",
      "773  163  \n",
      "204  227  \n",
      "                    title                artist   top genre  year released  \\\n",
      "204          Breezeblocks                 alt-J  indie rock           2012   \n",
      "773         Feel It Still     Portugal. The Man  indie rock           2017   \n",
      "529  Mountain at My Gates                 Foals  indie rock           2015   \n",
      "93          What You Know  Two Door Cinema Club  indie rock           2010   \n",
      "\n",
      "     dur  \n",
      "204  227  \n",
      "773  163  \n",
      "529  244  \n",
      "93   192  \n"
     ]
    }
   ],
   "source": [
    "def leer_archivo(nombre_archivo):\n",
    "    data = pd.read_csv(nombre_archivo, sep=\",\")\n",
    "    return data\n",
    "\n",
    "nombre_archivo = \"Spotify 2010 - 2021 Top 100.csv\"\n",
    "data = leer_archivo(nombre_archivo)\n",
    "\n",
    "class PlayList():\n",
    "    def __init__(self,filtro, filtro1, filtro2, orden):\n",
    "        self.filtro = filtro\n",
    "        self.filtro1 = filtro1\n",
    "        self.filtro2 = filtro2\n",
    "        self.orden = orden\n",
    "        \n",
    "    def ordenar_lista(filtro, filtro1, filtro2, orden):\n",
    "        ordenar = True\n",
    "        if orden == \"asendente\":\n",
    "            ordenar = False\n",
    "        lista_ordenada = data[data[filtro]== filtro1].sort_values(by= filtro2, ascending=ordenar)\n",
    "        return lista_ordenada\n",
    "    \n",
    "print(PlayList.ordenar_lista(\"top genre\", \"indie rock\", \"title\", \"asendente\"))\n",
    "print(PlayList.ordenar_lista(\"top genre\", \"indie rock\", \"title\", \"desendente\"))"
   ]
  },
  {
   "cell_type": "markdown",
   "metadata": {},
   "source": [
    "3. Mostrar la cantidad de canciones de las listas de reproducción creadas"
   ]
  },
  {
   "cell_type": "code",
   "execution_count": 12,
   "metadata": {},
   "outputs": [
    {
     "name": "stdout",
     "output_type": "stream",
     "text": [
      "4\n"
     ]
    }
   ],
   "source": [
    "def leer_archivo(nombre_archivo):\n",
    "    data = pd.read_csv(nombre_archivo, sep=\",\")\n",
    "    return data\n",
    "\n",
    "nombre_archivo = \"Spotify 2010 - 2021 Top 100.csv\"\n",
    "data = leer_archivo(nombre_archivo)\n",
    "\n",
    "class PlayList():\n",
    "    def __init__(self,filtro, filtro1, filtro2, orden):\n",
    "        self.filtro = filtro\n",
    "        self.filtro1 = filtro1\n",
    "        self.filtro2 = filtro2\n",
    "        self.orden = orden\n",
    "        \n",
    "    def list_cant_item(filtro, filtro1):\n",
    "        cantidad = len(data[data[filtro]== filtro1][\"title\"].to_list())\n",
    "        return cantidad\n",
    "\n",
    "print(PlayList.list_cant_item(\"top genre\", \"indie rock\"))        "
   ]
  },
  {
   "cell_type": "markdown",
   "metadata": {},
   "source": [
    "4. ¿Permite el diseño implementar una lista de reproducción basada en un artista en\n",
    "lugar de un género musical?"
   ]
  },
  {
   "cell_type": "code",
   "execution_count": 13,
   "metadata": {},
   "outputs": [
    {
     "name": "stdout",
     "output_type": "stream",
     "text": [
      "                        title  artist        top genre  year released  dur\n",
      "22       Love The Way You Lie  Eminem  detroit hip hop           2010  263\n",
      "23                 Not Afraid  Eminem  detroit hip hop           2010  248\n",
      "336               The Monster  Eminem  detroit hip hop           2013  250\n",
      "337                   Berzerk  Eminem  detroit hip hop           2013  239\n",
      "833  River (feat. Ed Sheeran)  Eminem  detroit hip hop           2017  221\n"
     ]
    }
   ],
   "source": [
    "def leer_archivo(nombre_archivo):\n",
    "    data = pd.read_csv(nombre_archivo, sep=\",\")\n",
    "    return data\n",
    "\n",
    "nombre_archivo = \"Spotify 2010 - 2021 Top 100.csv\"\n",
    "data = leer_archivo(nombre_archivo)\n",
    "\n",
    "class PlayList():\n",
    "    def __init__(self,filtro, filtro1, filtro2, orden):\n",
    "        self.filtro = filtro\n",
    "        self.filtro1 = filtro1\n",
    "        self.filtro2 = filtro2\n",
    "        self.orden = orden\n",
    "        \n",
    "    def generador_de_listas(filtro, filtro1):\n",
    "        lista = data[data[filtro] == filtro1]\n",
    "        return lista\n",
    "    \n",
    "print(PlayList.generador_de_listas(\"artist\", \"Eminem\"))        "
   ]
  },
  {
   "cell_type": "markdown",
   "metadata": {},
   "source": [
    "5. ¿Permite el diseño implementar listas de reproducción genéricas?"
   ]
  },
  {
   "cell_type": "code",
   "execution_count": 14,
   "metadata": {},
   "outputs": [
    {
     "name": "stdout",
     "output_type": "stream",
     "text": [
      "                                             title              artist  \\\n",
      "0                    STARSTRUKK (feat. Katy Perry)               3OH!3   \n",
      "1                      My First Kiss (feat. Ke$ha)               3OH!3   \n",
      "2                                  I Need A Dollar          Aloe Blacc   \n",
      "3    Airplanes (feat. Hayley Williams of Paramore)               B.o.B   \n",
      "4                Nothin' on You (feat. Bruno Mars)               B.o.B   \n",
      "..                                             ...                 ...   \n",
      "993                                     SICKO MODE        Travis Scott   \n",
      "994                                      EARFQUAKE  Tyler, The Creator   \n",
      "995                      Boasty (feat. Idris Elba)               Wiley   \n",
      "996                    Strike a Pose (feat. Aitch)    Young T & Bugsey   \n",
      "997      The London (feat. J. Cole & Travis Scott)          Young Thug   \n",
      "\n",
      "       top genre  year released  dur  \n",
      "0      dance pop           2009  203  \n",
      "1      dance pop           2010  192  \n",
      "2       pop soul           2010  243  \n",
      "3    atl hip hop           2010  180  \n",
      "4    atl hip hop           2010  268  \n",
      "..           ...            ...  ...  \n",
      "993      hip hop           2018  313  \n",
      "994      hip hop           2019  190  \n",
      "995        grime           2019  177  \n",
      "996    afroswing           2019  214  \n",
      "997  atl hip hop           2019  200  \n",
      "\n",
      "[998 rows x 5 columns]\n"
     ]
    }
   ],
   "source": [
    "def leer_archivo(nombre_archivo):\n",
    "    data = pd.read_csv(nombre_archivo, sep=\",\")\n",
    "    return data\n",
    "\n",
    "nombre_archivo = \"Spotify 2010 - 2021 Top 100.csv\"\n",
    "data = leer_archivo(nombre_archivo)\n",
    "\n",
    "class PlayList():\n",
    "    def __init__(self,filtro, filtro1, filtro2, orden):\n",
    "        self.filtro = filtro\n",
    "        self.filtro1 = filtro1\n",
    "        self.filtro2 = filtro2\n",
    "        self.orden = orden\n",
    "        \n",
    "        \n",
    "    def lista_generica():\n",
    "        lista = data\n",
    "        return lista\n",
    "\n",
    "print(PlayList.lista_generica())   "
   ]
  },
  {
   "cell_type": "markdown",
   "metadata": {},
   "source": [
    "6. Identifique las clases e indique si existen relaciones de herencia, composición o\n",
    "   agregación entre ellas\n",
    "\n",
    "   no solo hay una clase"
   ]
  },
  {
   "cell_type": "markdown",
   "metadata": {},
   "source": [
    "7. Identifique los atributos y métodos implementados, indicando si los mismos son de\n",
    "clase o de instancia"
   ]
  },
  {
   "cell_type": "markdown",
   "metadata": {},
   "source": [
    "8. ¿El diseño contiene métodos que apliquen polimorfismo?"
   ]
  },
  {
   "cell_type": "markdown",
   "metadata": {},
   "source": [
    "                                                                          ANALISIS DE DATOS"
   ]
  },
  {
   "cell_type": "markdown",
   "metadata": {},
   "source": [
    "1. ¿Cuántas canciones responden al género “hip hop”?"
   ]
  },
  {
   "cell_type": "code",
   "execution_count": 15,
   "metadata": {},
   "outputs": [
    {
     "name": "stdout",
     "output_type": "stream",
     "text": [
      "21\n"
     ]
    }
   ],
   "source": [
    "def leer_archivo(nombre_archivo):\n",
    "    data = pd.read_csv(nombre_archivo, sep=\",\")\n",
    "    return data\n",
    "\n",
    "nombre_archivo = \"Spotify 2010 - 2021 Top 100.csv\"\n",
    "data = leer_archivo(nombre_archivo)\n",
    "\n",
    "class AnalicisArchivo():\n",
    "    def __init__(self, columna ):\n",
    "        self.columna = columna\n",
    "        \n",
    "    def list_cant_item(filtro, filtro1):\n",
    "        cantidad = len(data[data[filtro]== filtro1])\n",
    "        return cantidad\n",
    "    \n",
    "print(AnalicisArchivo.list_cant_item(\"top genre\", \"hip hop\" )) "
   ]
  },
  {
   "cell_type": "markdown",
   "metadata": {},
   "source": [
    "2. ¿Cuál es el género que más aparece en el archivo?"
   ]
  },
  {
   "cell_type": "code",
   "execution_count": 16,
   "metadata": {},
   "outputs": [
    {
     "name": "stdout",
     "output_type": "stream",
     "text": [
      "top genre\n",
      "dance pop           360\n",
      "pop                  57\n",
      "atl hip hop          39\n",
      "art pop              37\n",
      "hip hop              21\n",
      "                   ... \n",
      "new french touch      1\n",
      "australian psych      1\n",
      "canadian indie        1\n",
      "austrian pop          1\n",
      "uk drill              1\n",
      "Name: count, Length: 131, dtype: int64\n"
     ]
    }
   ],
   "source": [
    "def leer_archivo(nombre_archivo):\n",
    "    data = pd.read_csv(nombre_archivo, sep=\",\")\n",
    "    return data\n",
    "\n",
    "nombre_archivo = \"Spotify 2010 - 2021 Top 100.csv\"\n",
    "data = leer_archivo(nombre_archivo)\n",
    "\n",
    "class AnalicisArchivo():\n",
    "    def __init__(self, columna ):\n",
    "        self.columna = columna\n",
    "        \n",
    "    def generos(columna):\n",
    "        cant_genero = data[columna].value_counts()\n",
    "        return cant_genero\n",
    "    \n",
    "print(AnalicisArchivo.generos(\"top genre\"))    "
   ]
  },
  {
   "cell_type": "markdown",
   "metadata": {},
   "source": [
    "3. ¿Cuál es la canción que tiene mayor duración? ¿Y la canción de menor duración? \n",
    "Not a Bad Thing  688   Old Town Road  113"
   ]
  },
  {
   "cell_type": "code",
   "execution_count": null,
   "metadata": {},
   "outputs": [],
   "source": [
    "def leer_archivo(nombre_archivo):\n",
    "    data = pd.read_csv(nombre_archivo, sep=\",\")\n",
    "    return data\n",
    "\n",
    "nombre_archivo = \"Spotify 2010 - 2021 Top 100.csv\"\n",
    "data = leer_archivo(nombre_archivo)\n",
    "\n",
    "class AnalicisArchivo():\n",
    "    def __init__(self, columna ):\n",
    "        self.columna = columna\n",
    "        \n",
    "    def mayor_duracion(filtro):\n",
    "        cancion_mas = len(data[data[filtro]][\"title\"].to_list()).idxmax()\n",
    "        return cancion_mas\n",
    "    \n",
    "    def menor_duracion(columna):\n",
    "        cancion_menos = data[columna].idxmin()\n",
    "        return cancion_menos\n",
    "    \n",
    "print(AnalicisArchivo.mayor_duracion(\"dur\"))   \n",
    "\n",
    "print(AnalicisArchivo.menor_duracion(\"title\"))     "
   ]
  },
  {
   "cell_type": "markdown",
   "metadata": {},
   "source": [
    "4. ¿Cuál es el artista que más aparece en el archivo?"
   ]
  },
  {
   "cell_type": "code",
   "execution_count": 18,
   "metadata": {},
   "outputs": [
    {
     "name": "stdout",
     "output_type": "stream",
     "text": [
      "Taylor Swift\n"
     ]
    }
   ],
   "source": [
    "import pandas as pd\n",
    "\n",
    "nombre_archivo = \"Spotify 2010 - 2021 Top 100.csv\"\n",
    "\n",
    "def leer_archivo(nombre_archivo):\n",
    "    data = pd.read_csv(nombre_archivo, sep=\",\")\n",
    "    return data\n",
    "data = leer_archivo(nombre_archivo)\n",
    "\n",
    "promedio = data.groupby(\"artist\").size()\n",
    "\n",
    "\n",
    "print(promedio.idxmax())"
   ]
  },
  {
   "cell_type": "markdown",
   "metadata": {},
   "source": [
    "5. ¿Cuántas canciones son interpretadas por “Imagine Dragons”?"
   ]
  },
  {
   "cell_type": "code",
   "execution_count": 19,
   "metadata": {},
   "outputs": [
    {
     "name": "stdout",
     "output_type": "stream",
     "text": [
      "8\n"
     ]
    }
   ],
   "source": [
    "def leer_archivo(nombre_archivo):\n",
    "    data = pd.read_csv(nombre_archivo, sep=\",\")\n",
    "    return data\n",
    "\n",
    "nombre_archivo = \"Spotify 2010 - 2021 Top 100.csv\"\n",
    "data = leer_archivo(nombre_archivo)\n",
    "\n",
    "class PlayList():\n",
    "    def __init__(self,filtro, filtro1, filtro2, orden):\n",
    "        self.filtro = filtro\n",
    "        self.filtro1 = filtro1\n",
    "        self.filtro2 = filtro2\n",
    "        self.orden = orden\n",
    "        \n",
    "    def list_cant_item(filtro, filtro1):\n",
    "        cantidad = len(data[data[filtro]== filtro1][\"title\"].to_list())\n",
    "        return cantidad\n",
    "    \n",
    "print(PlayList.list_cant_item(\"artist\", \"Imagine Dragons\"))    "
   ]
  },
  {
   "cell_type": "markdown",
   "metadata": {},
   "source": [
    "6. ¿Cuál es el año cuyas canciones tienen la mayor sumatoria de duración? Indicar el\n",
    "valor"
   ]
  },
  {
   "cell_type": "code",
   "execution_count": 20,
   "metadata": {},
   "outputs": [
    {
     "name": "stdout",
     "output_type": "stream",
     "text": [
      "(6, 53, 53)\n"
     ]
    }
   ],
   "source": [
    "def leer_archivo(nombre_archivo):\n",
    "    data = pd.read_csv(nombre_archivo, sep=\",\")\n",
    "    return data\n",
    "\n",
    "nombre_archivo = \"Spotify 2010 - 2021 Top 100.csv\"\n",
    "data = leer_archivo(nombre_archivo)\n",
    "\n",
    "class PlayList():\n",
    "    def __init__(self,filtro, filtro1, filtro2, orden):\n",
    "        self.filtro = filtro\n",
    "        self.filtro1 = filtro1\n",
    "        self.filtro2 = filtro2\n",
    "        self.orden = orden\n",
    "        \n",
    "        \n",
    "    def calcula_duracion(filtro, filtro1):\n",
    "        duracion = data[data[filtro] == filtro1][\"dur\"].sum()  \n",
    "        horas = duracion//3600\n",
    "        sobrante1 =duracion%3600\n",
    "        minutos = sobrante1//60\n",
    "        sobrante2 = sobrante1%60\n",
    "        horas = horas \n",
    "        minutos = minutos \n",
    "        segundos = sobrante2\n",
    "        return horas, minutos, segundos\n",
    "\n",
    "class AnalicisArchivo():\n",
    "    def __init__(self, columna ):\n",
    "        self.columna = columna\n",
    "        \n",
    "    def año_con_mayor_duracion (filtro):\n",
    "        filtroa = data[filtro].to_list()\n",
    "        filtrob = set(filtroa)\n",
    "        duracionporanio= []\n",
    "        \n",
    "        for anio in filtrob:\n",
    "                \n",
    "         duracionporanio.append(PlayList.calcula_duracion(filtro, anio ))\n",
    "         \n",
    "        max = duracionporanio [0]\n",
    "        for x in duracionporanio:\n",
    "            if x > max:\n",
    "                max = x \n",
    "         \n",
    "        return max\n",
    "    \n",
    "print(AnalicisArchivo.año_con_mayor_duracion(\"year released\"))   "
   ]
  },
  {
   "cell_type": "markdown",
   "metadata": {},
   "source": [
    "7. ¿Cuál es el año cuyas canciones tienen la menor sumatoria de duración? Indicar el\n",
    "   valor."
   ]
  },
  {
   "cell_type": "code",
   "execution_count": 21,
   "metadata": {},
   "outputs": [
    {
     "name": "stdout",
     "output_type": "stream",
     "text": [
      "(0, 12, 5)\n"
     ]
    }
   ],
   "source": [
    "def leer_archivo(nombre_archivo):\n",
    "    data = pd.read_csv(nombre_archivo, sep=\",\")\n",
    "    return data\n",
    "\n",
    "nombre_archivo = \"Spotify 2010 - 2021 Top 100.csv\"\n",
    "data = leer_archivo(nombre_archivo)\n",
    "\n",
    "class PlayList():\n",
    "    def __init__(self,filtro, filtro1, filtro2, orden):\n",
    "        self.filtro = filtro\n",
    "        self.filtro1 = filtro1\n",
    "        self.filtro2 = filtro2\n",
    "        self.orden = orden\n",
    "        \n",
    "        \n",
    "    def calcula_duracion(filtro, filtro1):\n",
    "        duracion = data[data[filtro] == filtro1][\"dur\"].sum()  \n",
    "        horas = duracion//3600\n",
    "        sobrante1 =duracion%3600\n",
    "        minutos = sobrante1//60\n",
    "        sobrante2 = sobrante1%60\n",
    "        horas = horas \n",
    "        minutos = minutos \n",
    "        segundos = sobrante2\n",
    "        return horas, minutos, segundos\n",
    "    \n",
    "class AnalicisArchivo():\n",
    "    def __init__(self, columna ):\n",
    "        self.columna = columna\n",
    "        \n",
    "    def año_con_menor_duracion (filtro):\n",
    "        filtroa = data[filtro].to_list()\n",
    "        filtrob = set(filtroa)\n",
    "        duracionporanio= []\n",
    "        \n",
    "        for anio in filtrob:\n",
    "                \n",
    "         duracionporanio.append(PlayList.calcula_duracion(filtro, anio ))\n",
    "         \n",
    "        min = duracionporanio [0]\n",
    "        for x in duracionporanio:\n",
    "            if x < min:\n",
    "                min = x \n",
    "         \n",
    "        return min\n",
    "    \n",
    "print(AnalicisArchivo.año_con_menor_duracion(\"year released\"))      "
   ]
  },
  {
   "cell_type": "markdown",
   "metadata": {},
   "source": [
    "8. ¿Cuál es el género cuyas canciones tienen la mayor sumatoria de duración? Indicar\n",
    "   el valor"
   ]
  },
  {
   "cell_type": "code",
   "execution_count": 22,
   "metadata": {},
   "outputs": [
    {
     "name": "stdout",
     "output_type": "stream",
     "text": [
      "(21, 48, 22)\n"
     ]
    }
   ],
   "source": [
    "def leer_archivo(nombre_archivo):\n",
    "    data = pd.read_csv(nombre_archivo, sep=\",\")\n",
    "    return data\n",
    "\n",
    "nombre_archivo = \"Spotify 2010 - 2021 Top 100.csv\"\n",
    "data = leer_archivo(nombre_archivo)\n",
    "\n",
    "class PlayList():\n",
    "    def __init__(self,filtro, filtro1, filtro2, orden):\n",
    "        self.filtro = filtro\n",
    "        self.filtro1 = filtro1\n",
    "        self.filtro2 = filtro2\n",
    "        self.orden = orden\n",
    "        \n",
    "        \n",
    "    def calcula_duracion(filtro, filtro1):\n",
    "        duracion = data[data[filtro] == filtro1][\"dur\"].sum()  \n",
    "        horas = duracion//3600\n",
    "        sobrante1 =duracion%3600\n",
    "        minutos = sobrante1//60\n",
    "        sobrante2 = sobrante1%60\n",
    "        horas = horas \n",
    "        minutos = minutos \n",
    "        segundos = sobrante2\n",
    "        return horas, minutos, segundos\n",
    "\n",
    "class AnalicisArchivo():\n",
    "    def __init__(self, columna ):\n",
    "        self.columna = columna  \n",
    "        \n",
    "    def genero_de_mayor_duracion(filtro):\n",
    "        filtroa = data[filtro].to_list()\n",
    "        filtrob = set(filtroa)\n",
    "        duracionporgenero = []\n",
    "        \n",
    "        for gen in filtrob:\n",
    "            duracionporgenero.append(PlayList.calcula_duracion(filtro, gen))\n",
    "            \n",
    "        max = duracionporgenero[0]\n",
    "        for x in duracionporgenero:\n",
    "            if x > max:\n",
    "                max = x\n",
    "        return max\n",
    "    \n",
    "print(AnalicisArchivo.genero_de_mayor_duracion(\"top genre\"))          "
   ]
  },
  {
   "cell_type": "markdown",
   "metadata": {},
   "source": [
    "9. ¿Cuál es el género cuyas canciones tienen la menor sumatoria de duración? Indicar\n",
    "    el valor"
   ]
  },
  {
   "cell_type": "code",
   "execution_count": 23,
   "metadata": {},
   "outputs": [
    {
     "name": "stdout",
     "output_type": "stream",
     "text": [
      "(0, 2, 28)\n"
     ]
    }
   ],
   "source": [
    "def leer_archivo(nombre_archivo):\n",
    "    data = pd.read_csv(nombre_archivo, sep=\",\")\n",
    "    return data\n",
    "\n",
    "nombre_archivo = \"Spotify 2010 - 2021 Top 100.csv\"\n",
    "data = leer_archivo(nombre_archivo)\n",
    "\n",
    "class PlayList():\n",
    "    def __init__(self,filtro, filtro1, filtro2, orden):\n",
    "        self.filtro = filtro\n",
    "        self.filtro1 = filtro1\n",
    "        self.filtro2 = filtro2\n",
    "        self.orden = orden\n",
    "        \n",
    "        \n",
    "    def calcula_duracion(filtro, filtro1):\n",
    "        duracion = data[data[filtro] == filtro1][\"dur\"].sum()  \n",
    "        horas = duracion//3600\n",
    "        sobrante1 =duracion%3600\n",
    "        minutos = sobrante1//60\n",
    "        sobrante2 = sobrante1%60\n",
    "        horas = horas \n",
    "        minutos = minutos \n",
    "        segundos = sobrante2\n",
    "        return horas, minutos, segundos\n",
    "    \n",
    "class AnalicisArchivo():\n",
    "    def __init__(self, columna ):\n",
    "        self.columna = columna  \n",
    "    \n",
    "    def genero_de_menor_duracion(filtro):\n",
    "        filtroa = data[filtro].to_list()\n",
    "        filtrob = set(filtroa)\n",
    "        duracionporgenero = []\n",
    "        \n",
    "        for gen in filtrob:\n",
    "            duracionporgenero.append(PlayList.calcula_duracion(filtro, gen))\n",
    "            \n",
    "        min = duracionporgenero[0]\n",
    "        for x in duracionporgenero:\n",
    "            if x < min:\n",
    "                min = x\n",
    "        return min       \n",
    "    \n",
    "print(AnalicisArchivo.genero_de_menor_duracion(\"top genre\"))     "
   ]
  },
  {
   "cell_type": "markdown",
   "metadata": {},
   "source": [
    "0. ¿Cuál es el promedio de duración de las canciones del género con mayor sumatoria\n",
    "    de duración de sus canciones?"
   ]
  },
  {
   "cell_type": "code",
   "execution_count": 24,
   "metadata": {},
   "outputs": [
    {
     "name": "stdout",
     "output_type": "stream",
     "text": [
      "(0, 54, 29)\n"
     ]
    }
   ],
   "source": [
    "import pandas as pd\n",
    "\n",
    "def leer_archivo(nombre_archivo):\n",
    "    data = pd.read_csv(nombre_archivo, sep=\",\")\n",
    "    return data\n",
    "\n",
    "nombre_archivo = \"Spotify 2010 - 2021 Top 100.csv\"\n",
    "data = leer_archivo(nombre_archivo)\n",
    "\n",
    "class PlayList():\n",
    "    def __init__(self,filtro, filtro1, filtro2, orden):\n",
    "        self.filtro = filtro\n",
    "        self.filtro1 = filtro1\n",
    "        self.filtro2 = filtro2\n",
    "        self.orden = orden\n",
    "        \n",
    "        \n",
    "    def calcula_duracion(filtro, filtro1):\n",
    "        duracion = data[data[filtro] == filtro1][\"dur\"].sum()\n",
    "        duracion1 = len(data[data[filtro]== filtro1][\"title\"].to_list())\n",
    "        duracion2 = duracion // duracion1\n",
    "        horas = duracion2//3600\n",
    "        sobrante1 =duracion%3600\n",
    "        minutos = sobrante1//60\n",
    "        sobrante2 = sobrante1%60\n",
    "        horas = horas \n",
    "        minutos = minutos \n",
    "        segundos = sobrante2\n",
    "        return horas, minutos, segundos\n",
    "\n",
    "class AnalicisArchivo():\n",
    "    def __init__(self, columna ):\n",
    "        self.columna = columna  \n",
    "        \n",
    "    def genero_de_mayor_duracion(filtro):\n",
    "        filtroa = data[filtro].to_list()\n",
    "        filtrob = set(filtroa)\n",
    "        duracionporgenero = []\n",
    "        \n",
    "        for gen in filtrob:\n",
    "            duracionporgenero.append(PlayList.calcula_duracion(filtro, gen))\n",
    "            \n",
    "        max = duracionporgenero[0]\n",
    "        for x in duracionporgenero:\n",
    "            if x > max:\n",
    "                max = x\n",
    "        return max    \n",
    "    \n",
    "    print(genero_de_mayor_duracion(\"top genre\"))"
   ]
  },
  {
   "cell_type": "code",
   "execution_count": 25,
   "metadata": {},
   "outputs": [
    {
     "name": "stdout",
     "output_type": "stream",
     "text": [
      "dance pop\n"
     ]
    }
   ],
   "source": [
    "import pandas as pd\n",
    "\n",
    "nombre_archivo = \"Spotify 2010 - 2021 Top 100.csv\"\n",
    "\n",
    "def leer_archivo(nombre_archivo):\n",
    "    data = pd.read_csv(nombre_archivo, sep=\",\")\n",
    "    return data\n",
    "data = leer_archivo(nombre_archivo)\n",
    "\n",
    "promedio = data.groupby(\"top genre\").size()\n",
    "\n",
    "\n",
    "print(promedio.idxmax())"
   ]
  },
  {
   "cell_type": "markdown",
   "metadata": {},
   "source": [
    "11. ¿Cuál es el año cuyo promedio de duración de canciones es el menor?       2020"
   ]
  },
  {
   "cell_type": "code",
   "execution_count": 26,
   "metadata": {},
   "outputs": [
    {
     "name": "stdout",
     "output_type": "stream",
     "text": [
      "2021\n"
     ]
    }
   ],
   "source": [
    "import pandas as pd\n",
    "\n",
    "nombre_archivo = \"Spotify 2010 - 2021 Top 100.csv\"\n",
    "\n",
    "def leer_archivo(nombre_archivo):\n",
    "    data = pd.read_csv(nombre_archivo, sep=\",\")\n",
    "    return data\n",
    "data = leer_archivo(nombre_archivo)\n",
    "\n",
    "promedio = data.groupby(\"year released\").size()/len(data)*100\n",
    "\n",
    "\n",
    "print(promedio.idxmin())"
   ]
  },
  {
   "cell_type": "markdown",
   "metadata": {},
   "source": [
    "12. Informar el porcentaje de canciones de cada género que aparecen en la lista."
   ]
  },
  {
   "cell_type": "code",
   "execution_count": 27,
   "metadata": {},
   "outputs": [
    {
     "name": "stdout",
     "output_type": "stream",
     "text": [
      "top genre\n",
      "acoustic pop        0.100200\n",
      "adult standards     0.100200\n",
      "afro dancehall      0.100200\n",
      "afrofuturism        0.100200\n",
      "afroswing           0.400802\n",
      "                      ...   \n",
      "social media pop    0.100200\n",
      "talent show         0.100200\n",
      "tropical house      0.100200\n",
      "uk drill            0.100200\n",
      "uk hip hop          0.300601\n",
      "Length: 131, dtype: float64\n"
     ]
    }
   ],
   "source": [
    "import pandas as pd\n",
    "\n",
    "nombre_archivo = \"Spotify 2010 - 2021 Top 100.csv\"\n",
    "\n",
    "def leer_archivo(nombre_archivo):\n",
    "    data = pd.read_csv(nombre_archivo, sep=\",\")\n",
    "    return data\n",
    "data = leer_archivo(nombre_archivo)\n",
    "\n",
    "promedio = data.groupby(\"top genre\").size()/len(data)*100\n",
    "\n",
    "\n",
    "print(promedio)"
   ]
  },
  {
   "cell_type": "markdown",
   "metadata": {},
   "source": [
    "13. Informar los 5 géneros que tienen los mayores porcentajes de aparición en el\n",
    "archivo.           dance pop 360,  pop 57,    atl hip hop 39,  art pop 37, hip hop 21"
   ]
  },
  {
   "cell_type": "code",
   "execution_count": 28,
   "metadata": {},
   "outputs": [
    {
     "name": "stdout",
     "output_type": "stream",
     "text": [
      "top genre\n",
      "dance pop      36.072144\n",
      "pop             5.711423\n",
      "atl hip hop     3.907816\n",
      "art pop         3.707415\n",
      "boy band        2.104208\n",
      "dtype: float64\n"
     ]
    }
   ],
   "source": [
    "import pandas as pd\n",
    "\n",
    "nombre_archivo = \"Spotify 2010 - 2021 Top 100.csv\"\n",
    "\n",
    "def leer_archivo(nombre_archivo):\n",
    "    data = pd.read_csv(nombre_archivo, sep=\",\")\n",
    "    return data\n",
    "data = leer_archivo(nombre_archivo)\n",
    "\n",
    "\n",
    "porcentage = data.groupby(\"top genre\").size()/len(data)* 100\n",
    "    \n",
    "print(porcentage.nlargest(5))"
   ]
  },
  {
   "cell_type": "markdown",
   "metadata": {},
   "source": [
    "4. Informar cuáles son todos los géneros en cuyo nombre aparece la palabra “rock” en\n",
    "   la lista.    'modern alternative rock', 'celtic rock', 'indie rock',\n",
    "       'alternative rock', 'garage rock', 'modern rock',\n",
    "       'modern folk rock', 'alternative pop rock']"
   ]
  },
  {
   "cell_type": "markdown",
   "metadata": {},
   "source": []
  },
  {
   "cell_type": "code",
   "execution_count": 29,
   "metadata": {},
   "outputs": [
    {
     "name": "stdout",
     "output_type": "stream",
     "text": [
      "['modern alternative rock' 'celtic rock' 'indie rock' 'alternative rock'\n",
      " 'garage rock' 'modern rock' 'modern folk rock' 'alternative pop rock']\n"
     ]
    }
   ],
   "source": [
    "import pandas as pd\n",
    "\n",
    "nombre_archivo = \"Spotify 2010 - 2021 Top 100.csv\"\n",
    "\n",
    "def leer_archivo(nombre_archivo):\n",
    "    data = pd.read_csv(nombre_archivo, sep=\",\")\n",
    "    return data\n",
    "data = leer_archivo(nombre_archivo)\n",
    "\n",
    "def nombre(filtro, filtro1):\n",
    "    generos = data[data[filtro].str.contains(filtro1, case= False)][filtro].unique()\n",
    "    return generos\n",
    "print(nombre(\"top genre\", \"rock\"))"
   ]
  },
  {
   "cell_type": "markdown",
   "metadata": {},
   "source": [
    "15. El archivo contiene registros duplicados (hay temas que aparecen más de una vez).\n",
    "Determine, cuente y muestre los duplicados."
   ]
  },
  {
   "cell_type": "code",
   "execution_count": 4,
   "metadata": {},
   "outputs": [
    {
     "data": {
      "text/plain": [
       "40"
      ]
     },
     "execution_count": 4,
     "metadata": {},
     "output_type": "execute_result"
    }
   ],
   "source": [
    "import pandas as pd\n",
    "\n",
    "nombre_archivo = \"Spotify 2010 - 2021 Top 100.csv\"\n",
    "\n",
    "def leer_archivo(nombre_archivo):\n",
    "    data = pd.read_csv(nombre_archivo, sep=\",\")\n",
    "    return data\n",
    "data = leer_archivo(nombre_archivo)\n",
    "\n",
    "len(data[data.duplicated(keep=\"first\")])\n",
    "\n"
   ]
  },
  {
   "cell_type": "code",
   "execution_count": 5,
   "metadata": {},
   "outputs": [
    {
     "data": {
      "text/html": [
       "<div>\n",
       "<style scoped>\n",
       "    .dataframe tbody tr th:only-of-type {\n",
       "        vertical-align: middle;\n",
       "    }\n",
       "\n",
       "    .dataframe tbody tr th {\n",
       "        vertical-align: top;\n",
       "    }\n",
       "\n",
       "    .dataframe thead th {\n",
       "        text-align: right;\n",
       "    }\n",
       "</style>\n",
       "<table border=\"1\" class=\"dataframe\">\n",
       "  <thead>\n",
       "    <tr style=\"text-align: right;\">\n",
       "      <th></th>\n",
       "      <th>title</th>\n",
       "      <th>artist</th>\n",
       "      <th>top genre</th>\n",
       "      <th>year released</th>\n",
       "      <th>dur</th>\n",
       "    </tr>\n",
       "  </thead>\n",
       "  <tbody>\n",
       "    <tr>\n",
       "      <th>135</th>\n",
       "      <td>Stereo Love - Radio Edit</td>\n",
       "      <td>Edward Maya</td>\n",
       "      <td>romanian house</td>\n",
       "      <td>2010</td>\n",
       "      <td>185</td>\n",
       "    </tr>\n",
       "    <tr>\n",
       "      <th>186</th>\n",
       "      <td>What's My Name?</td>\n",
       "      <td>Rihanna</td>\n",
       "      <td>barbadian pop</td>\n",
       "      <td>2010</td>\n",
       "      <td>263</td>\n",
       "    </tr>\n",
       "    <tr>\n",
       "      <th>194</th>\n",
       "      <td>If I Die Young</td>\n",
       "      <td>The Band Perry</td>\n",
       "      <td>contemporary country</td>\n",
       "      <td>2010</td>\n",
       "      <td>223</td>\n",
       "    </tr>\n",
       "    <tr>\n",
       "      <th>197</th>\n",
       "      <td>No Hands (feat. Roscoe Dash &amp; Wale)</td>\n",
       "      <td>Waka Flocka Flame</td>\n",
       "      <td>atl hip hop</td>\n",
       "      <td>2010</td>\n",
       "      <td>264</td>\n",
       "    </tr>\n",
       "    <tr>\n",
       "      <th>220</th>\n",
       "      <td>Paradise</td>\n",
       "      <td>Coldplay</td>\n",
       "      <td>permanent wave</td>\n",
       "      <td>2011</td>\n",
       "      <td>279</td>\n",
       "    </tr>\n",
       "    <tr>\n",
       "      <th>255</th>\n",
       "      <td>Sexy And I Know It</td>\n",
       "      <td>LMFAO</td>\n",
       "      <td>dance pop</td>\n",
       "      <td>2011</td>\n",
       "      <td>199</td>\n",
       "    </tr>\n",
       "    <tr>\n",
       "      <th>277</th>\n",
       "      <td>We Found Love</td>\n",
       "      <td>Rihanna</td>\n",
       "      <td>barbadian pop</td>\n",
       "      <td>2011</td>\n",
       "      <td>215</td>\n",
       "    </tr>\n",
       "    <tr>\n",
       "      <th>316</th>\n",
       "      <td>Locked out of Heaven</td>\n",
       "      <td>Bruno Mars</td>\n",
       "      <td>dance pop</td>\n",
       "      <td>2012</td>\n",
       "      <td>233</td>\n",
       "    </tr>\n",
       "    <tr>\n",
       "      <th>341</th>\n",
       "      <td>I Love It (feat. Charli XCX)</td>\n",
       "      <td>Icona Pop</td>\n",
       "      <td>candy pop</td>\n",
       "      <td>2013</td>\n",
       "      <td>157</td>\n",
       "    </tr>\n",
       "    <tr>\n",
       "      <th>378</th>\n",
       "      <td>Home</td>\n",
       "      <td>Phillip Phillips</td>\n",
       "      <td>folk-pop</td>\n",
       "      <td>2013</td>\n",
       "      <td>210</td>\n",
       "    </tr>\n",
       "    <tr>\n",
       "      <th>387</th>\n",
       "      <td>I Knew You Were Trouble.</td>\n",
       "      <td>Taylor Swift</td>\n",
       "      <td>pop</td>\n",
       "      <td>2012</td>\n",
       "      <td>220</td>\n",
       "    </tr>\n",
       "    <tr>\n",
       "      <th>391</th>\n",
       "      <td>Ho Hey</td>\n",
       "      <td>The Lumineers</td>\n",
       "      <td>folk-pop</td>\n",
       "      <td>2012</td>\n",
       "      <td>163</td>\n",
       "    </tr>\n",
       "    <tr>\n",
       "      <th>424</th>\n",
       "      <td>Latch</td>\n",
       "      <td>Disclosure</td>\n",
       "      <td>edm</td>\n",
       "      <td>2013</td>\n",
       "      <td>256</td>\n",
       "    </tr>\n",
       "    <tr>\n",
       "      <th>437</th>\n",
       "      <td>Talk Dirty (feat. 2 Chainz)</td>\n",
       "      <td>Jason Derulo</td>\n",
       "      <td>dance pop</td>\n",
       "      <td>2013</td>\n",
       "      <td>178</td>\n",
       "    </tr>\n",
       "    <tr>\n",
       "      <th>450</th>\n",
       "      <td>Team</td>\n",
       "      <td>Lorde</td>\n",
       "      <td>art pop</td>\n",
       "      <td>2013</td>\n",
       "      <td>193</td>\n",
       "    </tr>\n",
       "    <tr>\n",
       "      <th>472</th>\n",
       "      <td>Ain't It Fun</td>\n",
       "      <td>Paramore</td>\n",
       "      <td>candy pop</td>\n",
       "      <td>2013</td>\n",
       "      <td>297</td>\n",
       "    </tr>\n",
       "    <tr>\n",
       "      <th>503</th>\n",
       "      <td>Love Me Harder</td>\n",
       "      <td>Ariana Grande</td>\n",
       "      <td>dance pop</td>\n",
       "      <td>2014</td>\n",
       "      <td>236</td>\n",
       "    </tr>\n",
       "    <tr>\n",
       "      <th>517</th>\n",
       "      <td>You Know You Like It</td>\n",
       "      <td>DJ Snake</td>\n",
       "      <td>dance pop</td>\n",
       "      <td>2014</td>\n",
       "      <td>247</td>\n",
       "    </tr>\n",
       "    <tr>\n",
       "      <th>552</th>\n",
       "      <td>Somebody</td>\n",
       "      <td>Natalie La Rose</td>\n",
       "      <td>chicago rap</td>\n",
       "      <td>2014</td>\n",
       "      <td>190</td>\n",
       "    </tr>\n",
       "    <tr>\n",
       "      <th>555</th>\n",
       "      <td>Post to Be (feat. Chris Brown &amp; Jhene Aiko)</td>\n",
       "      <td>Omarion</td>\n",
       "      <td>dance pop</td>\n",
       "      <td>2014</td>\n",
       "      <td>227</td>\n",
       "    </tr>\n",
       "    <tr>\n",
       "      <th>573</th>\n",
       "      <td>Geronimo</td>\n",
       "      <td>Sheppard</td>\n",
       "      <td>australian indie</td>\n",
       "      <td>2015</td>\n",
       "      <td>218</td>\n",
       "    </tr>\n",
       "    <tr>\n",
       "      <th>580</th>\n",
       "      <td>Style</td>\n",
       "      <td>Taylor Swift</td>\n",
       "      <td>pop</td>\n",
       "      <td>2014</td>\n",
       "      <td>231</td>\n",
       "    </tr>\n",
       "    <tr>\n",
       "      <th>587</th>\n",
       "      <td>Talking Body</td>\n",
       "      <td>Tove Lo</td>\n",
       "      <td>art pop</td>\n",
       "      <td>2014</td>\n",
       "      <td>238</td>\n",
       "    </tr>\n",
       "    <tr>\n",
       "      <th>590</th>\n",
       "      <td>Na Na</td>\n",
       "      <td>Trey Songz</td>\n",
       "      <td>dance pop</td>\n",
       "      <td>2015</td>\n",
       "      <td>232</td>\n",
       "    </tr>\n",
       "    <tr>\n",
       "      <th>603</th>\n",
       "      <td>Here</td>\n",
       "      <td>Alessia Cara</td>\n",
       "      <td>canadian contemporary r&amp;b</td>\n",
       "      <td>2015</td>\n",
       "      <td>199</td>\n",
       "    </tr>\n",
       "    <tr>\n",
       "      <th>611</th>\n",
       "      <td>Don't</td>\n",
       "      <td>Bryson Tiller</td>\n",
       "      <td>kentucky hip hop</td>\n",
       "      <td>2015</td>\n",
       "      <td>198</td>\n",
       "    </tr>\n",
       "    <tr>\n",
       "      <th>635</th>\n",
       "      <td>My House</td>\n",
       "      <td>Flo Rida</td>\n",
       "      <td>dance pop</td>\n",
       "      <td>2015</td>\n",
       "      <td>192</td>\n",
       "    </tr>\n",
       "    <tr>\n",
       "      <th>652</th>\n",
       "      <td>Stole the Show</td>\n",
       "      <td>Kygo</td>\n",
       "      <td>edm</td>\n",
       "      <td>2016</td>\n",
       "      <td>223</td>\n",
       "    </tr>\n",
       "    <tr>\n",
       "      <th>677</th>\n",
       "      <td>Same Old Love</td>\n",
       "      <td>Selena Gomez</td>\n",
       "      <td>dance pop</td>\n",
       "      <td>2015</td>\n",
       "      <td>229</td>\n",
       "    </tr>\n",
       "    <tr>\n",
       "      <th>678</th>\n",
       "      <td>Hands To Myself</td>\n",
       "      <td>Selena Gomez</td>\n",
       "      <td>dance pop</td>\n",
       "      <td>2015</td>\n",
       "      <td>201</td>\n",
       "    </tr>\n",
       "    <tr>\n",
       "      <th>684</th>\n",
       "      <td>All My Friends (feat. Tinashe &amp; Chance the Rap...</td>\n",
       "      <td>Snakehips</td>\n",
       "      <td>edm</td>\n",
       "      <td>2015</td>\n",
       "      <td>230</td>\n",
       "    </tr>\n",
       "    <tr>\n",
       "      <th>696</th>\n",
       "      <td>Renegades</td>\n",
       "      <td>X Ambassadors</td>\n",
       "      <td>modern alternative rock</td>\n",
       "      <td>2015</td>\n",
       "      <td>195</td>\n",
       "    </tr>\n",
       "    <tr>\n",
       "      <th>697</th>\n",
       "      <td>Unsteady</td>\n",
       "      <td>X Ambassadors</td>\n",
       "      <td>modern alternative rock</td>\n",
       "      <td>2015</td>\n",
       "      <td>194</td>\n",
       "    </tr>\n",
       "    <tr>\n",
       "      <th>778</th>\n",
       "      <td>Chill Bill (feat. J. Davi$ &amp; Spooks)</td>\n",
       "      <td>Rob $tone</td>\n",
       "      <td>san diego rap</td>\n",
       "      <td>2016</td>\n",
       "      <td>177</td>\n",
       "    </tr>\n",
       "    <tr>\n",
       "      <th>814</th>\n",
       "      <td>Bodak Yellow</td>\n",
       "      <td>Cardi B</td>\n",
       "      <td>dance pop</td>\n",
       "      <td>2018</td>\n",
       "      <td>224</td>\n",
       "    </tr>\n",
       "    <tr>\n",
       "      <th>837</th>\n",
       "      <td>Him &amp; I (with Halsey)</td>\n",
       "      <td>G-Eazy</td>\n",
       "      <td>indie pop rap</td>\n",
       "      <td>2017</td>\n",
       "      <td>269</td>\n",
       "    </tr>\n",
       "    <tr>\n",
       "      <th>850</th>\n",
       "      <td>LOVE. FEAT. ZACARI.</td>\n",
       "      <td>Kendrick Lamar</td>\n",
       "      <td>conscious hip hop</td>\n",
       "      <td>2017</td>\n",
       "      <td>213</td>\n",
       "    </tr>\n",
       "    <tr>\n",
       "      <th>913</th>\n",
       "      <td>lovely (with Khalid)</td>\n",
       "      <td>Billie Eilish</td>\n",
       "      <td>art pop</td>\n",
       "      <td>2018</td>\n",
       "      <td>200</td>\n",
       "    </tr>\n",
       "    <tr>\n",
       "      <th>977</th>\n",
       "      <td>Better Now</td>\n",
       "      <td>Post Malone</td>\n",
       "      <td>dfw rap</td>\n",
       "      <td>2018</td>\n",
       "      <td>231</td>\n",
       "    </tr>\n",
       "    <tr>\n",
       "      <th>993</th>\n",
       "      <td>SICKO MODE</td>\n",
       "      <td>Travis Scott</td>\n",
       "      <td>hip hop</td>\n",
       "      <td>2018</td>\n",
       "      <td>313</td>\n",
       "    </tr>\n",
       "  </tbody>\n",
       "</table>\n",
       "</div>"
      ],
      "text/plain": [
       "                                                 title             artist  \\\n",
       "135                           Stereo Love - Radio Edit        Edward Maya   \n",
       "186                                    What's My Name?            Rihanna   \n",
       "194                                     If I Die Young     The Band Perry   \n",
       "197                No Hands (feat. Roscoe Dash & Wale)  Waka Flocka Flame   \n",
       "220                                           Paradise           Coldplay   \n",
       "255                                 Sexy And I Know It              LMFAO   \n",
       "277                                      We Found Love            Rihanna   \n",
       "316                               Locked out of Heaven         Bruno Mars   \n",
       "341                       I Love It (feat. Charli XCX)          Icona Pop   \n",
       "378                                               Home   Phillip Phillips   \n",
       "387                           I Knew You Were Trouble.       Taylor Swift   \n",
       "391                                             Ho Hey      The Lumineers   \n",
       "424                                              Latch         Disclosure   \n",
       "437                        Talk Dirty (feat. 2 Chainz)       Jason Derulo   \n",
       "450                                               Team              Lorde   \n",
       "472                                       Ain't It Fun           Paramore   \n",
       "503                                     Love Me Harder      Ariana Grande   \n",
       "517                               You Know You Like It           DJ Snake   \n",
       "552                                           Somebody    Natalie La Rose   \n",
       "555        Post to Be (feat. Chris Brown & Jhene Aiko)            Omarion   \n",
       "573                                           Geronimo           Sheppard   \n",
       "580                                              Style       Taylor Swift   \n",
       "587                                       Talking Body            Tove Lo   \n",
       "590                                              Na Na         Trey Songz   \n",
       "603                                               Here       Alessia Cara   \n",
       "611                                              Don't      Bryson Tiller   \n",
       "635                                           My House           Flo Rida   \n",
       "652                                     Stole the Show               Kygo   \n",
       "677                                      Same Old Love       Selena Gomez   \n",
       "678                                    Hands To Myself       Selena Gomez   \n",
       "684  All My Friends (feat. Tinashe & Chance the Rap...          Snakehips   \n",
       "696                                          Renegades      X Ambassadors   \n",
       "697                                           Unsteady      X Ambassadors   \n",
       "778               Chill Bill (feat. J. Davi$ & Spooks)          Rob $tone   \n",
       "814                                       Bodak Yellow            Cardi B   \n",
       "837                              Him & I (with Halsey)             G-Eazy   \n",
       "850                                LOVE. FEAT. ZACARI.     Kendrick Lamar   \n",
       "913                               lovely (with Khalid)      Billie Eilish   \n",
       "977                                         Better Now        Post Malone   \n",
       "993                                         SICKO MODE       Travis Scott   \n",
       "\n",
       "                     top genre  year released  dur  \n",
       "135             romanian house           2010  185  \n",
       "186              barbadian pop           2010  263  \n",
       "194       contemporary country           2010  223  \n",
       "197                atl hip hop           2010  264  \n",
       "220             permanent wave           2011  279  \n",
       "255                  dance pop           2011  199  \n",
       "277              barbadian pop           2011  215  \n",
       "316                  dance pop           2012  233  \n",
       "341                  candy pop           2013  157  \n",
       "378                   folk-pop           2013  210  \n",
       "387                        pop           2012  220  \n",
       "391                   folk-pop           2012  163  \n",
       "424                        edm           2013  256  \n",
       "437                  dance pop           2013  178  \n",
       "450                    art pop           2013  193  \n",
       "472                  candy pop           2013  297  \n",
       "503                  dance pop           2014  236  \n",
       "517                  dance pop           2014  247  \n",
       "552                chicago rap           2014  190  \n",
       "555                  dance pop           2014  227  \n",
       "573           australian indie           2015  218  \n",
       "580                        pop           2014  231  \n",
       "587                    art pop           2014  238  \n",
       "590                  dance pop           2015  232  \n",
       "603  canadian contemporary r&b           2015  199  \n",
       "611           kentucky hip hop           2015  198  \n",
       "635                  dance pop           2015  192  \n",
       "652                        edm           2016  223  \n",
       "677                  dance pop           2015  229  \n",
       "678                  dance pop           2015  201  \n",
       "684                        edm           2015  230  \n",
       "696    modern alternative rock           2015  195  \n",
       "697    modern alternative rock           2015  194  \n",
       "778              san diego rap           2016  177  \n",
       "814                  dance pop           2018  224  \n",
       "837              indie pop rap           2017  269  \n",
       "850          conscious hip hop           2017  213  \n",
       "913                    art pop           2018  200  \n",
       "977                    dfw rap           2018  231  \n",
       "993                    hip hop           2018  313  "
      ]
     },
     "execution_count": 5,
     "metadata": {},
     "output_type": "execute_result"
    }
   ],
   "source": [
    "import pandas as pd\n",
    "\n",
    "nombre_archivo = \"Spotify 2010 - 2021 Top 100.csv\"\n",
    "\n",
    "def leer_archivo(nombre_archivo):\n",
    "    data = pd.read_csv(nombre_archivo, sep=\",\")\n",
    "    return data\n",
    "data = leer_archivo(nombre_archivo)\n",
    "\n",
    "data[data.duplicated(keep=\"first\")]"
   ]
  },
  {
   "cell_type": "markdown",
   "metadata": {},
   "source": [
    "1. Evolución de la cantidad de canciones del género “dance pop” para cada año"
   ]
  },
  {
   "cell_type": "code",
   "execution_count": 37,
   "metadata": {},
   "outputs": [
    {
     "data": {
      "text/plain": [
       "Text(0, 0.5, 'cantidad de temas')"
      ]
     },
     "execution_count": 37,
     "metadata": {},
     "output_type": "execute_result"
    },
    {
     "data": {
      "image/png": "[encoded data removed]",
      "text/plain": [
       "<Figure size 640x480 with 1 Axes>"
      ]
     },
     "metadata": {},
     "output_type": "display_data"
    }
   ],
   "source": [
    "import pandas as pd\n",
    "import matplotlib.pyplot as plt\n",
    "import seaborn as sns\n",
    "\n",
    "\n",
    "nombre_archivo = \"Spotify 2010 - 2021 Top 100.csv\"\n",
    "\n",
    "def leer_archivo(nombre_archivo):\n",
    "    data = pd.read_csv(nombre_archivo, sep=\",\")\n",
    "    return data\n",
    "data = leer_archivo(nombre_archivo)\n",
    "x = [2009, 2010, 2011, 2012, 2013, 2014, 2015, 2016, 2017, 2018, 2019, 2020]\n",
    "y = [9, 42, 34, 50, 28, 39, 33, 43, 28, 31, 21, 2]\n",
    "\n",
    "fig, ax = plt.subplots()   \n",
    "ax.plot(x, y)\n",
    "ax.set_title(\"Evolucion del genero dance pop\")\n",
    "ax.set_xlabel(\"años\")\n",
    "ax.set_ylabel(\"cantidad de temas\")"
   ]
  },
  {
   "cell_type": "markdown",
   "metadata": {},
   "source": [
    "2. Gráfico de torta representando los porcentajes que ocupan las canciones de los\n",
    "géneros informados en el punto 13 de la actividad 2. Tener en cuenta que es\n",
    "necesario recalcular los porcentajes teniendo en cuenta sólo las categorías\n",
    "consideradas."
   ]
  },
  {
   "cell_type": "code",
   "execution_count": 49,
   "metadata": {},
   "outputs": [
    {
     "data": {
      "text/plain": [
       "<function matplotlib.pyplot.show(close=None, block=None)>"
      ]
     },
     "execution_count": 49,
     "metadata": {},
     "output_type": "execute_result"
    },
    {
     "data": {
      "image/png": "[encoded data removed]",
      "text/plain": [
       "<Figure size 200x200 with 1 Axes>"
      ]
     },
     "metadata": {},
     "output_type": "display_data"
    }
   ],
   "source": [
    "import matplotlib.pyplot as plt\n",
    "import numpy as np\n",
    "\n",
    "porsentaje = [36.072144, 5.711423, 3.907816, 3.707415, 2.10420]\n",
    "nombres = [\"dance pop\", \"pop\", \"atl hip hop\", \"art pop\", \"boy band\"]\n",
    "colores = [\"#EE6055\",\"#60D394\",\"#AAF683\",\"#FFD97D\",\"#FF9B85\"]\n",
    "plt.pie(porsentaje, labels=nombres, autopct=\"%0.1f %%\", colors=colores)\n",
    "plt.axis(\"equal\")\n",
    "plt.title(\"Porsentaje de canciones\")\n",
    "plt.show"
   ]
  },
  {
   "cell_type": "markdown",
   "metadata": {},
   "source": [
    "3. Gráfico de barras indicando la cantidad de temas de cada género en cuyo nombre\n",
    "   aparece la palabra “rock” en la lista."
   ]
  },
  {
   "cell_type": "code",
   "execution_count": 51,
   "metadata": {},
   "outputs": [
    {
     "data": {
      "text/plain": [
       "Text(0, 0.5, 'cantidad de temas')"
      ]
     },
     "execution_count": 51,
     "metadata": {},
     "output_type": "execute_result"
    },
    {
     "data": {
      "image/png": "[encoded data removed]",
      "text/plain": [
       "<Figure size 200x200 with 1 Axes>"
      ]
     },
     "metadata": {},
     "output_type": "display_data"
    }
   ],
   "source": [
    "import matplotlib.pyplot as plt\n",
    "\n",
    "x = [\"modern alternative rock\", \"celtic rock\", \"indie rock\", \"alternative rock\", \"garage rock\", \"modern rock\", \"modern folk rock\", \"alternative pop rock\"]\n",
    "y = [12, 2, 4, 2, 3, 13, 2, 1]\n",
    "\n",
    "fig, ax = plt.subplots()   \n",
    "ax.bar(x, y)\n",
    "plt.xticks(rotation = 90)\n",
    "ax.set_title(\"cantidad de tamas de generos rock\")\n",
    "ax.set_xlabel(\"generos\")\n",
    "ax.set_ylabel(\"cantidad de temas\")"
   ]
  }
 ],
 "metadata": {
  "kernelspec": {
   "display_name": "Python 3",
   "language": "python",
   "name": "python3"
  },
  "language_info": {
   "codemirror_mode": {
    "name": "ipython",
    "version": 3
   },
   "file_extension": ".py",
   "mimetype": "text/x-python",
   "name": "python",
   "nbconvert_exporter": "python",
   "pygments_lexer": "ipython3",
   "version": "3.11.5"
  },
  "orig_nbformat": 4
 },
 "nbformat": 4,
 "nbformat_minor": 2
}
