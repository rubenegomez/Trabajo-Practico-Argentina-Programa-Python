{
 "cells": [
  {
   "cell_type": "code",
   "execution_count": 1,
   "metadata": {},
   "outputs": [
    {
     "data": {
      "text/plain": [
       "<BarContainer object of 13 artists>"
      ]
     },
     "execution_count": 1,
     "metadata": {},
     "output_type": "execute_result"
    },
    {
     "data": {
      "image/png": "[encoded data removed]",
      "text/plain": [
       "<Figure size 640x480 with 1 Axes>"
      ]
     },
     "metadata": {},
     "output_type": "display_data"
    }
   ],
   "source": [
    "import pandas as pd\n",
    "import matplotlib.pyplot as plt\n",
    "import seaborn as sns\n",
    "\n",
    "\n",
    "nombre_archivo = \"Spotify 2010 - 2021 Top 100.csv\"\n",
    "\n",
    "def leer_archivo(nombre_archivo):\n",
    "    data = pd.read_csv(nombre_archivo, sep=\",\")\n",
    "    return data\n",
    "data = leer_archivo(nombre_archivo)\n",
    "ejex = list(data[\"year released\"].unique())\n",
    "ejey = []\n",
    "for genero in ejex:\n",
    "    ejey.append(len(data[data[\"year released\"]== genero]))\n",
    "fig, ax = plt.subplots()   \n",
    "ax.bar(ejex, ejey) "
   ]
  },
  {
   "cell_type": "code",
   "execution_count": 11,
   "metadata": {},
   "outputs": [
    {
     "name": "stdout",
     "output_type": "stream",
     "text": [
      "top genre\n",
      "dance pop           360\n",
      "pop                  57\n",
      "atl hip hop          39\n",
      "art pop              37\n",
      "hip hop              21\n",
      "                   ... \n",
      "new french touch      1\n",
      "australian psych      1\n",
      "canadian indie        1\n",
      "austrian pop          1\n",
      "uk drill              1\n",
      "Name: count, Length: 131, dtype: int64\n"
     ]
    }
   ],
   "source": [
    "def generos(columna):\n",
    "        cant_genero = data[columna].value_counts()\n",
    "        return cant_genero\n",
    "\n",
    "    \n",
    "    \n",
    "print(generos(\"top genre\"))"
   ]
  },
  {
   "cell_type": "code",
   "execution_count": 13,
   "metadata": {},
   "outputs": [
    {
     "data": {
      "text/plain": [
       "array(['modern alternative rock', 'celtic rock', 'indie rock',\n",
       "       'alternative rock', 'garage rock', 'modern rock',\n",
       "       'modern folk rock', 'alternative pop rock'], dtype=object)"
      ]
     },
     "execution_count": 13,
     "metadata": {},
     "output_type": "execute_result"
    }
   ],
   "source": [
    "data[data[\"top genre\"].str.contains(\"rock\", case= False)][\"top genre\"].unique()"
   ]
  }
 ],
 "metadata": {
  "kernelspec": {
   "display_name": "Python 3",
   "language": "python",
   "name": "python3"
  },
  "language_info": {
   "codemirror_mode": {
    "name": "ipython",
    "version": 3
   },
   "file_extension": ".py",
   "mimetype": "text/x-python",
   "name": "python",
   "nbconvert_exporter": "python",
   "pygments_lexer": "ipython3",
   "version": "3.11.5"
  },
  "orig_nbformat": 4
 },
 "nbformat": 4,
 "nbformat_minor": 2
}
